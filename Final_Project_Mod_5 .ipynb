{
 "cells": [
  {
   "cell_type": "code",
   "execution_count": 1,
   "metadata": {},
   "outputs": [],
   "source": [
    "#Module 5 project - Sentiment analysis of news companies twitter feed -BBC, CNN, CNBC, Bloomberg and FOX"
   ]
  },
  {
   "cell_type": "code",
   "execution_count": 2,
   "metadata": {},
   "outputs": [],
   "source": [
    "import tweepy           # To consume Twitter's API\n",
    "import pandas as pd     # To handle data\n",
    "import numpy as np      # For number computing\n",
    "\n",
    "# For plotting and visualization:\n",
    "from IPython.display import display\n",
    "import matplotlib.pyplot as plt\n",
    "import seaborn as sns\n",
    "%matplotlib inline\n",
    "import nltk\n",
    "from nltk import word_tokenize, sent_tokenize\n",
    "from nltk.corpus import stopwords\n",
    "from nltk.stem import LancasterStemmer, WordNetLemmatizer, PorterStemmer\n",
    "from textblob import TextBlob"
   ]
  },
  {
   "cell_type": "code",
   "execution_count": 3,
   "metadata": {},
   "outputs": [],
   "source": [
    "import json\n",
    "def get_keys(path):\n",
    "    with open(path) as f:\n",
    "        return json.load(f)"
   ]
  },
  {
   "cell_type": "code",
   "execution_count": 4,
   "metadata": {},
   "outputs": [],
   "source": [
    "# We import our access keys:\n",
    "#from credentials import *    # This will allow us to use the keys as variables\n",
    "keys = get_keys(\"/Users/eyambaita/.secret/api.json\")"
   ]
  },
  {
   "cell_type": "code",
   "execution_count": 5,
   "metadata": {},
   "outputs": [],
   "source": [
    "CONSUMER_KEY = keys['CONSUMER_KEY']\n",
    "CONSUMER_SECRET = keys['CONSUMER_SECRET']\n",
    "ACCESS_TOKEN = keys['ACCESS_TOKEN']\n",
    "ACCESS_SECRET = keys['ACCESS_SECRET']"
   ]
  },
  {
   "cell_type": "code",
   "execution_count": 6,
   "metadata": {},
   "outputs": [],
   "source": [
    "# API's setup:\n",
    "def twitter_setup():\n",
    "    \"\"\"\n",
    "    Utility function to setup the Twitter's API\n",
    "    with our access keys provided.\n",
    "    \"\"\"\n",
    "    # Authentication and access using keys:\n",
    "    auth = tweepy.OAuthHandler(CONSUMER_KEY, CONSUMER_SECRET)\n",
    "    auth.set_access_token(ACCESS_TOKEN, ACCESS_SECRET)\n",
    "\n",
    "    # Return API with authentication:\n",
    "    api = tweepy.API(auth)\n",
    "    return api"
   ]
  },
  {
   "cell_type": "code",
   "execution_count": 7,
   "metadata": {},
   "outputs": [],
   "source": [
    "# We create an extractor object:\n",
    "extractor = twitter_setup()\n",
    "\n",
    "# We create a tweet list as follows:\n",
    "tweets = extractor.user_timeline(screen_name=\"@BBCWorld\", count=200)\n",
    "tweets1 = extractor.user_timeline(screen_name=\"@CNN\", count=200)\n",
    "tweets2 = extractor.user_timeline(screen_name=\"@CNBC\", count=200)\n",
    "tweets3 = extractor.user_timeline(screen_name=\"@business\", count=200)\n",
    "tweets4 = extractor.user_timeline(screen_name=\"@FoxNews\", count=200)\n",
    "#print(\"Number of tweets extracted: {}.\\n\".format(len(tweets)))\n",
    "\n",
    "# We print the most recent 5 tweets:\n",
    "#print(\"5 recent tweets:\\n\")\n",
    "for tweet in tweets[:5]:\n",
    "    BBC=(tweet.text)\n",
    "for tweet1 in tweets1[:5]:\n",
    "    CNN=(tweet1.text)\n",
    "for tweet2 in tweets2[:5]:\n",
    "    CNBC=(tweet2.text)\n",
    "for tweet3 in tweets3[:5]:\n",
    "    BLOOM=(tweet3.text)\n",
    "for tweet4 in tweets4[:5]:\n",
    "    FOX=(tweet4.text)"
   ]
  },
  {
   "cell_type": "code",
   "execution_count": 8,
   "metadata": {},
   "outputs": [
    {
     "data": {
      "text/html": [
       "<div>\n",
       "<style scoped>\n",
       "    .dataframe tbody tr th:only-of-type {\n",
       "        vertical-align: middle;\n",
       "    }\n",
       "\n",
       "    .dataframe tbody tr th {\n",
       "        vertical-align: top;\n",
       "    }\n",
       "\n",
       "    .dataframe thead th {\n",
       "        text-align: right;\n",
       "    }\n",
       "</style>\n",
       "<table border=\"1\" class=\"dataframe\">\n",
       "  <thead>\n",
       "    <tr style=\"text-align: right;\">\n",
       "      <th></th>\n",
       "      <th>BBC</th>\n",
       "      <th>CNN</th>\n",
       "      <th>CNBC</th>\n",
       "      <th>BLOOM</th>\n",
       "      <th>FOX</th>\n",
       "    </tr>\n",
       "  </thead>\n",
       "  <tbody>\n",
       "    <tr>\n",
       "      <td>0</td>\n",
       "      <td>US election 2020: Trump steals Biden's pitch t...</td>\n",
       "      <td>Protesters and security forces have repeatedly...</td>\n",
       "      <td>Here are 5 money mistakes that can destroy a m...</td>\n",
       "      <td>One of the world’s top dealmakers is consideri...</td>\n",
       "      <td>BREAKING: Federal appeals court rules against ...</td>\n",
       "    </tr>\n",
       "    <tr>\n",
       "      <td>1</td>\n",
       "      <td>Zimbabwe sanctions: Who is being targeted? htt...</td>\n",
       "      <td>One of Harvey Weinstein's most vocal accusers ...</td>\n",
       "      <td>Take a look inside Nordstrom's New York flagsh...</td>\n",
       "      <td>RT @BloombergTV: EXCLUSIVE: Singapore's centra...</td>\n",
       "      <td>Breaking News: Grand jury indicts captain of M...</td>\n",
       "    </tr>\n",
       "    <tr>\n",
       "      <td>2</td>\n",
       "      <td>Quiz of the week: How big was Google's Quantum...</td>\n",
       "      <td>Sen. Bernie Sanders released a comprehensive p...</td>\n",
       "      <td>What exactly is \"meat?\" As it turns out, many ...</td>\n",
       "      <td>RT @BloombergAU: Australian property is starti...</td>\n",
       "      <td>JUST IN: Police identify gunman who opened fir...</td>\n",
       "    </tr>\n",
       "  </tbody>\n",
       "</table>\n",
       "</div>"
      ],
      "text/plain": [
       "                                                 BBC  \\\n",
       "0  US election 2020: Trump steals Biden's pitch t...   \n",
       "1  Zimbabwe sanctions: Who is being targeted? htt...   \n",
       "2  Quiz of the week: How big was Google's Quantum...   \n",
       "\n",
       "                                                 CNN  \\\n",
       "0  Protesters and security forces have repeatedly...   \n",
       "1  One of Harvey Weinstein's most vocal accusers ...   \n",
       "2  Sen. Bernie Sanders released a comprehensive p...   \n",
       "\n",
       "                                                CNBC  \\\n",
       "0  Here are 5 money mistakes that can destroy a m...   \n",
       "1  Take a look inside Nordstrom's New York flagsh...   \n",
       "2  What exactly is \"meat?\" As it turns out, many ...   \n",
       "\n",
       "                                               BLOOM  \\\n",
       "0  One of the world’s top dealmakers is consideri...   \n",
       "1  RT @BloombergTV: EXCLUSIVE: Singapore's centra...   \n",
       "2  RT @BloombergAU: Australian property is starti...   \n",
       "\n",
       "                                                 FOX  \n",
       "0  BREAKING: Federal appeals court rules against ...  \n",
       "1  Breaking News: Grand jury indicts captain of M...  \n",
       "2  JUST IN: Police identify gunman who opened fir...  "
      ]
     },
     "execution_count": 8,
     "metadata": {},
     "output_type": "execute_result"
    }
   ],
   "source": [
    "data=pd.DataFrame(data=[tweet.text for tweet in tweets],columns =['BBC'])\n",
    "data1 = pd.DataFrame(data=[tweet1.text for tweet1 in tweets1], columns=['CNN'])\n",
    "data2 = pd.DataFrame(data=[tweet2.text for tweet2 in tweets2], columns=['CNBC'])\n",
    "data3 = pd.DataFrame(data=[tweet3.text for tweet3 in tweets3], columns=['BLOOM'])\n",
    "data4 = pd.DataFrame(data=[tweet4.text for tweet4 in tweets4], columns=['FOX'])\n",
    "# We display the first 10 elements of the dataframe:\n",
    "main_data_untouched =pd.concat([data, data1, data2, data3, data4], axis=1, join='outer', sort=True)\n",
    "main_data = main_data_untouched.copy()\n",
    "main_data.head(3)"
   ]
  },
  {
   "cell_type": "code",
   "execution_count": 9,
   "metadata": {},
   "outputs": [
    {
     "data": {
      "text/html": [
       "<div>\n",
       "<style scoped>\n",
       "    .dataframe tbody tr th:only-of-type {\n",
       "        vertical-align: middle;\n",
       "    }\n",
       "\n",
       "    .dataframe tbody tr th {\n",
       "        vertical-align: top;\n",
       "    }\n",
       "\n",
       "    .dataframe thead th {\n",
       "        text-align: right;\n",
       "    }\n",
       "</style>\n",
       "<table border=\"1\" class=\"dataframe\">\n",
       "  <thead>\n",
       "    <tr style=\"text-align: right;\">\n",
       "      <th></th>\n",
       "      <th>BBC</th>\n",
       "      <th>CNN</th>\n",
       "      <th>CNBC</th>\n",
       "      <th>BLOOM</th>\n",
       "      <th>FOX</th>\n",
       "    </tr>\n",
       "  </thead>\n",
       "  <tbody>\n",
       "    <tr>\n",
       "      <td>0</td>\n",
       "      <td>US election 2020: Trump steals Biden's pitch t...</td>\n",
       "      <td>Protesters and security forces have repeatedly...</td>\n",
       "      <td>Here are 5 money mistakes that can destroy a m...</td>\n",
       "      <td>One of the world’s top dealmakers is consideri...</td>\n",
       "      <td>BREAKING: Federal appeals court rules against ...</td>\n",
       "    </tr>\n",
       "    <tr>\n",
       "      <td>1</td>\n",
       "      <td>Zimbabwe sanctions: Who is being targeted? htt...</td>\n",
       "      <td>One of Harvey Weinstein's most vocal accusers ...</td>\n",
       "      <td>Take a look inside Nordstrom's New York flagsh...</td>\n",
       "      <td>RT @BloombergTV: EXCLUSIVE: Singapore's centra...</td>\n",
       "      <td>Breaking News: Grand jury indicts captain of M...</td>\n",
       "    </tr>\n",
       "    <tr>\n",
       "      <td>2</td>\n",
       "      <td>Quiz of the week: How big was Google's Quantum...</td>\n",
       "      <td>Sen. Bernie Sanders released a comprehensive p...</td>\n",
       "      <td>What exactly is \"meat?\" As it turns out, many ...</td>\n",
       "      <td>RT @BloombergAU: Australian property is starti...</td>\n",
       "      <td>JUST IN: Police identify gunman who opened fir...</td>\n",
       "    </tr>\n",
       "  </tbody>\n",
       "</table>\n",
       "</div>"
      ],
      "text/plain": [
       "                                                 BBC  \\\n",
       "0  US election 2020: Trump steals Biden's pitch t...   \n",
       "1  Zimbabwe sanctions: Who is being targeted? htt...   \n",
       "2  Quiz of the week: How big was Google's Quantum...   \n",
       "\n",
       "                                                 CNN  \\\n",
       "0  Protesters and security forces have repeatedly...   \n",
       "1  One of Harvey Weinstein's most vocal accusers ...   \n",
       "2  Sen. Bernie Sanders released a comprehensive p...   \n",
       "\n",
       "                                                CNBC  \\\n",
       "0  Here are 5 money mistakes that can destroy a m...   \n",
       "1  Take a look inside Nordstrom's New York flagsh...   \n",
       "2  What exactly is \"meat?\" As it turns out, many ...   \n",
       "\n",
       "                                               BLOOM  \\\n",
       "0  One of the world’s top dealmakers is consideri...   \n",
       "1  RT @BloombergTV: EXCLUSIVE: Singapore's centra...   \n",
       "2  RT @BloombergAU: Australian property is starti...   \n",
       "\n",
       "                                                 FOX  \n",
       "0  BREAKING: Federal appeals court rules against ...  \n",
       "1  Breaking News: Grand jury indicts captain of M...  \n",
       "2  JUST IN: Police identify gunman who opened fir...  "
      ]
     },
     "execution_count": 9,
     "metadata": {},
     "output_type": "execute_result"
    }
   ],
   "source": [
    "main_data_untouched.head(3)"
   ]
  },
  {
   "cell_type": "code",
   "execution_count": 10,
   "metadata": {},
   "outputs": [
    {
     "data": {
      "text/html": [
       "<div>\n",
       "<style scoped>\n",
       "    .dataframe tbody tr th:only-of-type {\n",
       "        vertical-align: middle;\n",
       "    }\n",
       "\n",
       "    .dataframe tbody tr th {\n",
       "        vertical-align: top;\n",
       "    }\n",
       "\n",
       "    .dataframe thead th {\n",
       "        text-align: right;\n",
       "    }\n",
       "</style>\n",
       "<table border=\"1\" class=\"dataframe\">\n",
       "  <thead>\n",
       "    <tr style=\"text-align: right;\">\n",
       "      <th></th>\n",
       "      <th>BBC</th>\n",
       "      <th>CNN</th>\n",
       "      <th>CNBC</th>\n",
       "      <th>BLOOM</th>\n",
       "      <th>FOX</th>\n",
       "    </tr>\n",
       "  </thead>\n",
       "  <tbody>\n",
       "    <tr>\n",
       "      <td>0</td>\n",
       "      <td>us election 2020: trump steals biden's pitch t...</td>\n",
       "      <td>protesters and security forces have repeatedly...</td>\n",
       "      <td>here are 5 money mistakes that can destroy a m...</td>\n",
       "      <td>one of the world’s top dealmakers is consideri...</td>\n",
       "      <td>breaking: federal appeals court rules against ...</td>\n",
       "    </tr>\n",
       "    <tr>\n",
       "      <td>1</td>\n",
       "      <td>zimbabwe sanctions: who is being targeted? htt...</td>\n",
       "      <td>one of harvey weinstein's most vocal accusers ...</td>\n",
       "      <td>take a look inside nordstrom's new york flagsh...</td>\n",
       "      <td>rt @bloombergtv: exclusive: singapore's centra...</td>\n",
       "      <td>breaking news: grand jury indicts captain of m...</td>\n",
       "    </tr>\n",
       "  </tbody>\n",
       "</table>\n",
       "</div>"
      ],
      "text/plain": [
       "                                                 BBC  \\\n",
       "0  us election 2020: trump steals biden's pitch t...   \n",
       "1  zimbabwe sanctions: who is being targeted? htt...   \n",
       "\n",
       "                                                 CNN  \\\n",
       "0  protesters and security forces have repeatedly...   \n",
       "1  one of harvey weinstein's most vocal accusers ...   \n",
       "\n",
       "                                                CNBC  \\\n",
       "0  here are 5 money mistakes that can destroy a m...   \n",
       "1  take a look inside nordstrom's new york flagsh...   \n",
       "\n",
       "                                               BLOOM  \\\n",
       "0  one of the world’s top dealmakers is consideri...   \n",
       "1  rt @bloombergtv: exclusive: singapore's centra...   \n",
       "\n",
       "                                                 FOX  \n",
       "0  breaking: federal appeals court rules against ...  \n",
       "1  breaking news: grand jury indicts captain of m...  "
      ]
     },
     "execution_count": 10,
     "metadata": {},
     "output_type": "execute_result"
    }
   ],
   "source": [
    "#Lowercasing\n",
    "main_data['BBC'] = main_data['BBC'].apply(lambda x: \" \".join(x.lower() for x in x.split()))\n",
    "main_data['CNN'] = main_data['CNN'].apply(lambda x: \" \".join(x.lower() for x in x.split()))\n",
    "main_data['CNBC'] = main_data['CNBC'].apply(lambda x: \" \".join(x.lower() for x in x.split()))\n",
    "main_data['BLOOM'] = main_data['BLOOM'].apply(lambda x: \" \".join(x.lower() for x in x.split()))\n",
    "main_data['FOX'] = main_data['FOX'].apply(lambda x: \" \".join(x.lower() for x in x.split()))\n",
    "main_data.head(2)"
   ]
  },
  {
   "cell_type": "code",
   "execution_count": 11,
   "metadata": {},
   "outputs": [
    {
     "data": {
      "text/html": [
       "<div>\n",
       "<style scoped>\n",
       "    .dataframe tbody tr th:only-of-type {\n",
       "        vertical-align: middle;\n",
       "    }\n",
       "\n",
       "    .dataframe tbody tr th {\n",
       "        vertical-align: top;\n",
       "    }\n",
       "\n",
       "    .dataframe thead th {\n",
       "        text-align: right;\n",
       "    }\n",
       "</style>\n",
       "<table border=\"1\" class=\"dataframe\">\n",
       "  <thead>\n",
       "    <tr style=\"text-align: right;\">\n",
       "      <th></th>\n",
       "      <th>BBC</th>\n",
       "      <th>CNN</th>\n",
       "      <th>CNBC</th>\n",
       "      <th>BLOOM</th>\n",
       "      <th>FOX</th>\n",
       "    </tr>\n",
       "  </thead>\n",
       "  <tbody>\n",
       "    <tr>\n",
       "      <td>0</td>\n",
       "      <td>us election 2020: trump steals biden's pitch t...</td>\n",
       "      <td>protesters and security forces have repeatedly...</td>\n",
       "      <td>here are 5 money mistakes that can destroy a m...</td>\n",
       "      <td>one of the world’s top dealmakers is consideri...</td>\n",
       "      <td>breaking: federal appeals court rules against ...</td>\n",
       "    </tr>\n",
       "    <tr>\n",
       "      <td>1</td>\n",
       "      <td>zimbabwe sanctions: who is being targeted? htt...</td>\n",
       "      <td>one of harvey weinstein's most vocal accusers ...</td>\n",
       "      <td>take a look inside nordstrom's new york flagsh...</td>\n",
       "      <td>rt bloombergtv: exclusive: singapore's central...</td>\n",
       "      <td>breaking news: grand jury indicts captain of m...</td>\n",
       "    </tr>\n",
       "  </tbody>\n",
       "</table>\n",
       "</div>"
      ],
      "text/plain": [
       "                                                 BBC  \\\n",
       "0  us election 2020: trump steals biden's pitch t...   \n",
       "1  zimbabwe sanctions: who is being targeted? htt...   \n",
       "\n",
       "                                                 CNN  \\\n",
       "0  protesters and security forces have repeatedly...   \n",
       "1  one of harvey weinstein's most vocal accusers ...   \n",
       "\n",
       "                                                CNBC  \\\n",
       "0  here are 5 money mistakes that can destroy a m...   \n",
       "1  take a look inside nordstrom's new york flagsh...   \n",
       "\n",
       "                                               BLOOM  \\\n",
       "0  one of the world’s top dealmakers is consideri...   \n",
       "1  rt bloombergtv: exclusive: singapore's central...   \n",
       "\n",
       "                                                 FOX  \n",
       "0  breaking: federal appeals court rules against ...  \n",
       "1  breaking news: grand jury indicts captain of m...  "
      ]
     },
     "execution_count": 11,
     "metadata": {},
     "output_type": "execute_result"
    }
   ],
   "source": [
    "## remove punctuation\n",
    "main_data['BBC'] = main_data['BBC'].str.replace('[@]','')\n",
    "main_data['CNN'] = main_data['CNN'].str.replace('[@]','')\n",
    "main_data['CNBC'] = main_data['CNBC'].str.replace('[@]','')\n",
    "main_data['BLOOM'] = main_data['BLOOM'].str.replace('[@]','')\n",
    "main_data['FOX'] = main_data['FOX'].str.replace('[@]','')\n",
    "main_data.head(2)"
   ]
  },
  {
   "cell_type": "code",
   "execution_count": 12,
   "metadata": {},
   "outputs": [
    {
     "data": {
      "text/html": [
       "<div>\n",
       "<style scoped>\n",
       "    .dataframe tbody tr th:only-of-type {\n",
       "        vertical-align: middle;\n",
       "    }\n",
       "\n",
       "    .dataframe tbody tr th {\n",
       "        vertical-align: top;\n",
       "    }\n",
       "\n",
       "    .dataframe thead th {\n",
       "        text-align: right;\n",
       "    }\n",
       "</style>\n",
       "<table border=\"1\" class=\"dataframe\">\n",
       "  <thead>\n",
       "    <tr style=\"text-align: right;\">\n",
       "      <th></th>\n",
       "      <th>BBC</th>\n",
       "      <th>CNN</th>\n",
       "      <th>CNBC</th>\n",
       "      <th>BLOOM</th>\n",
       "      <th>FOX</th>\n",
       "    </tr>\n",
       "  </thead>\n",
       "  <tbody>\n",
       "    <tr>\n",
       "      <td>0</td>\n",
       "      <td>us election 2020: trump steals biden's pitch l...</td>\n",
       "      <td>protesters security forces repeatedly clashed ...</td>\n",
       "      <td>5 money mistakes destroy marriage. https://t.c...</td>\n",
       "      <td>one world’s top dealmakers considering bidding...</td>\n",
       "      <td>breaking: federal appeals court rules trump ad...</td>\n",
       "    </tr>\n",
       "    <tr>\n",
       "      <td>1</td>\n",
       "      <td>zimbabwe sanctions: targeted? https://t.co/lq3...</td>\n",
       "      <td>one harvey weinstein's vocal accusers filed su...</td>\n",
       "      <td>take look inside nordstrom's new york flagship...</td>\n",
       "      <td>rt bloombergtv: exclusive: singapore's central...</td>\n",
       "      <td>breaking news: grand jury indicts captain miss...</td>\n",
       "    </tr>\n",
       "  </tbody>\n",
       "</table>\n",
       "</div>"
      ],
      "text/plain": [
       "                                                 BBC  \\\n",
       "0  us election 2020: trump steals biden's pitch l...   \n",
       "1  zimbabwe sanctions: targeted? https://t.co/lq3...   \n",
       "\n",
       "                                                 CNN  \\\n",
       "0  protesters security forces repeatedly clashed ...   \n",
       "1  one harvey weinstein's vocal accusers filed su...   \n",
       "\n",
       "                                                CNBC  \\\n",
       "0  5 money mistakes destroy marriage. https://t.c...   \n",
       "1  take look inside nordstrom's new york flagship...   \n",
       "\n",
       "                                               BLOOM  \\\n",
       "0  one world’s top dealmakers considering bidding...   \n",
       "1  rt bloombergtv: exclusive: singapore's central...   \n",
       "\n",
       "                                                 FOX  \n",
       "0  breaking: federal appeals court rules trump ad...  \n",
       "1  breaking news: grand jury indicts captain miss...  "
      ]
     },
     "execution_count": 12,
     "metadata": {},
     "output_type": "execute_result"
    }
   ],
   "source": [
    "#remove stopwords\n",
    "stop = stopwords.words('english')\n",
    "main_data['BBC'] = main_data['BBC'].apply(lambda x: \" \".join(x for x in x.split() if x not in stop))\n",
    "main_data['CNN'] = main_data['CNN'].apply(lambda x: \" \".join(x for x in x.split() if x not in stop))\n",
    "main_data['CNBC'] = main_data['CNBC'].apply(lambda x: \" \".join(x for x in x.split() if x not in stop))\n",
    "main_data['BLOOM'] = main_data['BLOOM'].apply(lambda x: \" \".join(x for x in x.split() if x not in stop))\n",
    "main_data['FOX'] = main_data['FOX'].apply(lambda x: \" \".join(x for x in x.split() if x not in stop))\n",
    "main_data.head(2)"
   ]
  },
  {
   "cell_type": "code",
   "execution_count": 13,
   "metadata": {},
   "outputs": [
    {
     "data": {
      "text/html": [
       "<div>\n",
       "<style scoped>\n",
       "    .dataframe tbody tr th:only-of-type {\n",
       "        vertical-align: middle;\n",
       "    }\n",
       "\n",
       "    .dataframe tbody tr th {\n",
       "        vertical-align: top;\n",
       "    }\n",
       "\n",
       "    .dataframe thead th {\n",
       "        text-align: right;\n",
       "    }\n",
       "</style>\n",
       "<table border=\"1\" class=\"dataframe\">\n",
       "  <thead>\n",
       "    <tr style=\"text-align: right;\">\n",
       "      <th></th>\n",
       "      <th>BBC</th>\n",
       "      <th>CNN</th>\n",
       "      <th>CNBC</th>\n",
       "      <th>BLOOM</th>\n",
       "      <th>FOX</th>\n",
       "    </tr>\n",
       "  </thead>\n",
       "  <tbody>\n",
       "    <tr>\n",
       "      <td>0</td>\n",
       "      <td>us elect 2020: trump steal biden' pitch latino...</td>\n",
       "      <td>protest secur forc repeatedli clash chile past...</td>\n",
       "      <td>5 money mistak destroy marriage. https://t.co/...</td>\n",
       "      <td>one world’ top dealmak consid bid spanish-lang...</td>\n",
       "      <td>breaking: feder appeal court rule trump admini...</td>\n",
       "    </tr>\n",
       "    <tr>\n",
       "      <td>1</td>\n",
       "      <td>zimbabw sanctions: targeted? https://t.co/lq3v...</td>\n",
       "      <td>one harvey weinstein' vocal accus file suit fo...</td>\n",
       "      <td>take look insid nordstrom' new york flagship s...</td>\n",
       "      <td>rt bloombergtv: exclusive: singapore' central ...</td>\n",
       "      <td>break news: grand juri indict captain missouri...</td>\n",
       "    </tr>\n",
       "  </tbody>\n",
       "</table>\n",
       "</div>"
      ],
      "text/plain": [
       "                                                 BBC  \\\n",
       "0  us elect 2020: trump steal biden' pitch latino...   \n",
       "1  zimbabw sanctions: targeted? https://t.co/lq3v...   \n",
       "\n",
       "                                                 CNN  \\\n",
       "0  protest secur forc repeatedli clash chile past...   \n",
       "1  one harvey weinstein' vocal accus file suit fo...   \n",
       "\n",
       "                                                CNBC  \\\n",
       "0  5 money mistak destroy marriage. https://t.co/...   \n",
       "1  take look insid nordstrom' new york flagship s...   \n",
       "\n",
       "                                               BLOOM  \\\n",
       "0  one world’ top dealmak consid bid spanish-lang...   \n",
       "1  rt bloombergtv: exclusive: singapore' central ...   \n",
       "\n",
       "                                                 FOX  \n",
       "0  breaking: feder appeal court rule trump admini...  \n",
       "1  break news: grand juri indict captain missouri...  "
      ]
     },
     "execution_count": 13,
     "metadata": {},
     "output_type": "execute_result"
    }
   ],
   "source": [
    "#Stemming\n",
    "st = PorterStemmer()\n",
    "main_data['BBC'] = main_data['BBC'].apply(lambda x: \" \".join([st.stem(word) for word in x.split()]))\n",
    "main_data['CNN'] = main_data['CNN'].apply(lambda x: \" \".join([st.stem(word) for word in x.split()]))\n",
    "main_data['CNBC'] = main_data['CNBC'].apply(lambda x: \" \".join([st.stem(word) for word in x.split()]))\n",
    "main_data['BLOOM'] = main_data['BLOOM'].apply(lambda x: \" \".join([st.stem(word) for word in x.split()]))\n",
    "main_data['FOX'] = main_data['FOX'].apply(lambda x: \" \".join([st.stem(word) for word in x.split()]))\n",
    "main_data.head(2)"
   ]
  },
  {
   "cell_type": "code",
   "execution_count": 14,
   "metadata": {},
   "outputs": [],
   "source": [
    "def senti(x):\n",
    "    return (TextBlob(x).sentiment.polarity)  \n",
    "###############################################\n",
    "#Used function below instead\n",
    "\n",
    "def analyze_sentiment(x):\n",
    "    '''\n",
    "    Utility function to classify the polarity of a tweet\n",
    "    using textblob.\n",
    "    '''\n",
    "    analysis = TextBlob(x)\n",
    "    if analysis.sentiment.polarity > 0:\n",
    "        return 1\n",
    "    elif analysis.sentiment.polarity == 0:\n",
    "        return 0\n",
    "    else:\n",
    "        return -1"
   ]
  },
  {
   "cell_type": "code",
   "execution_count": 15,
   "metadata": {},
   "outputs": [],
   "source": [
    "#As it can be observed there are two scores: \n",
    "#the first score is sentiment polarity which tells if the sentiment is positive or negative and \n",
    "#the second score is subjectivity score to tell how subjective is the text.\n",
    "#The sentiment property returns a namedtuple of the form Sentiment(polarity, subjectivity). \n",
    "#The polarity score is a float within the range [-1.0, 1.0]. \n",
    "#The subjectivity is a float within the range [0.0, 1.0] where 0.0 is very objective and 1.0 is very subjective."
   ]
  },
  {
   "cell_type": "code",
   "execution_count": 16,
   "metadata": {},
   "outputs": [
    {
     "data": {
      "text/html": [
       "<div>\n",
       "<style scoped>\n",
       "    .dataframe tbody tr th:only-of-type {\n",
       "        vertical-align: middle;\n",
       "    }\n",
       "\n",
       "    .dataframe tbody tr th {\n",
       "        vertical-align: top;\n",
       "    }\n",
       "\n",
       "    .dataframe thead th {\n",
       "        text-align: right;\n",
       "    }\n",
       "</style>\n",
       "<table border=\"1\" class=\"dataframe\">\n",
       "  <thead>\n",
       "    <tr style=\"text-align: right;\">\n",
       "      <th></th>\n",
       "      <th>BBC</th>\n",
       "      <th>CNN</th>\n",
       "      <th>CNBC</th>\n",
       "      <th>BLOOM</th>\n",
       "      <th>FOX</th>\n",
       "      <th>senti_score_BBC</th>\n",
       "      <th>senti_score_CNN</th>\n",
       "      <th>senti_score_CNBC</th>\n",
       "      <th>senti_score_BLOOM</th>\n",
       "      <th>senti_score_FOX</th>\n",
       "    </tr>\n",
       "  </thead>\n",
       "  <tbody>\n",
       "    <tr>\n",
       "      <td>0</td>\n",
       "      <td>us elect 2020: trump steal biden' pitch latino...</td>\n",
       "      <td>protest secur forc repeatedli clash chile past...</td>\n",
       "      <td>5 money mistak destroy marriage. https://t.co/...</td>\n",
       "      <td>one world’ top dealmak consid bid spanish-lang...</td>\n",
       "      <td>breaking: feder appeal court rule trump admini...</td>\n",
       "      <td>0.8</td>\n",
       "      <td>-0.275</td>\n",
       "      <td>-0.200000</td>\n",
       "      <td>0.5</td>\n",
       "      <td>0.0</td>\n",
       "    </tr>\n",
       "    <tr>\n",
       "      <td>1</td>\n",
       "      <td>zimbabw sanctions: targeted? https://t.co/lq3v...</td>\n",
       "      <td>one harvey weinstein' vocal accus file suit fo...</td>\n",
       "      <td>take look insid nordstrom' new york flagship s...</td>\n",
       "      <td>rt bloombergtv: exclusive: singapore' central ...</td>\n",
       "      <td>break news: grand juri indict captain missouri...</td>\n",
       "      <td>0.0</td>\n",
       "      <td>0.000</td>\n",
       "      <td>0.136364</td>\n",
       "      <td>0.0</td>\n",
       "      <td>0.5</td>\n",
       "    </tr>\n",
       "  </tbody>\n",
       "</table>\n",
       "</div>"
      ],
      "text/plain": [
       "                                                 BBC  \\\n",
       "0  us elect 2020: trump steal biden' pitch latino...   \n",
       "1  zimbabw sanctions: targeted? https://t.co/lq3v...   \n",
       "\n",
       "                                                 CNN  \\\n",
       "0  protest secur forc repeatedli clash chile past...   \n",
       "1  one harvey weinstein' vocal accus file suit fo...   \n",
       "\n",
       "                                                CNBC  \\\n",
       "0  5 money mistak destroy marriage. https://t.co/...   \n",
       "1  take look insid nordstrom' new york flagship s...   \n",
       "\n",
       "                                               BLOOM  \\\n",
       "0  one world’ top dealmak consid bid spanish-lang...   \n",
       "1  rt bloombergtv: exclusive: singapore' central ...   \n",
       "\n",
       "                                                 FOX  senti_score_BBC  \\\n",
       "0  breaking: feder appeal court rule trump admini...              0.8   \n",
       "1  break news: grand juri indict captain missouri...              0.0   \n",
       "\n",
       "   senti_score_CNN  senti_score_CNBC  senti_score_BLOOM  senti_score_FOX  \n",
       "0           -0.275         -0.200000                0.5              0.0  \n",
       "1            0.000          0.136364                0.0              0.5  "
      ]
     },
     "execution_count": 16,
     "metadata": {},
     "output_type": "execute_result"
    }
   ],
   "source": [
    "#main_data['senti_score_BBC'] = main_data['BBC'].apply(analyze_sentiment)\n",
    "#main_data['senti_score_CNN'] = main_data['CNN'].apply(analyze_sentiment)\n",
    "#main_data['senti_score_CNBC'] = main_data['CNBC'].apply(analyze_sentiment)\n",
    "#main_data['senti_score_BLOOM'] = main_data['BLOOM'].apply(analyze_sentiment)\n",
    "#main_data['senti_score_FOX'] = main_data['FOX'].apply(analyze_sentiment)\n",
    "main_data['senti_score_BBC'] = main_data['BBC'].apply(senti)\n",
    "main_data['senti_score_CNN'] = main_data['CNN'].apply(senti)\n",
    "main_data['senti_score_CNBC'] = main_data['CNBC'].apply(senti)\n",
    "main_data['senti_score_BLOOM'] = main_data['BLOOM'].apply(senti)\n",
    "main_data['senti_score_FOX'] = main_data['FOX'].apply(senti)\n",
    "main_data.head(2)"
   ]
  },
  {
   "cell_type": "code",
   "execution_count": 17,
   "metadata": {},
   "outputs": [],
   "source": [
    "#list(main_data)"
   ]
  },
  {
   "cell_type": "code",
   "execution_count": 18,
   "metadata": {},
   "outputs": [],
   "source": [
    "main_data=main_data[['BBC','senti_score_BBC','CNN','senti_score_CNN','CNBC','senti_score_CNBC','BLOOM','senti_score_BLOOM','FOX','senti_score_FOX']]"
   ]
  },
  {
   "cell_type": "code",
   "execution_count": 19,
   "metadata": {},
   "outputs": [
    {
     "data": {
      "text/html": [
       "<div>\n",
       "<style scoped>\n",
       "    .dataframe tbody tr th:only-of-type {\n",
       "        vertical-align: middle;\n",
       "    }\n",
       "\n",
       "    .dataframe tbody tr th {\n",
       "        vertical-align: top;\n",
       "    }\n",
       "\n",
       "    .dataframe thead th {\n",
       "        text-align: right;\n",
       "    }\n",
       "</style>\n",
       "<table border=\"1\" class=\"dataframe\">\n",
       "  <thead>\n",
       "    <tr style=\"text-align: right;\">\n",
       "      <th></th>\n",
       "      <th>BBC</th>\n",
       "      <th>senti_score_BBC</th>\n",
       "      <th>CNN</th>\n",
       "      <th>senti_score_CNN</th>\n",
       "      <th>CNBC</th>\n",
       "      <th>senti_score_CNBC</th>\n",
       "      <th>BLOOM</th>\n",
       "      <th>senti_score_BLOOM</th>\n",
       "      <th>FOX</th>\n",
       "      <th>senti_score_FOX</th>\n",
       "    </tr>\n",
       "  </thead>\n",
       "  <tbody>\n",
       "    <tr>\n",
       "      <td>0</td>\n",
       "      <td>us elect 2020: trump steal biden' pitch latino...</td>\n",
       "      <td>0.8</td>\n",
       "      <td>protest secur forc repeatedli clash chile past...</td>\n",
       "      <td>-0.275</td>\n",
       "      <td>5 money mistak destroy marriage. https://t.co/...</td>\n",
       "      <td>-0.200000</td>\n",
       "      <td>one world’ top dealmak consid bid spanish-lang...</td>\n",
       "      <td>0.5</td>\n",
       "      <td>breaking: feder appeal court rule trump admini...</td>\n",
       "      <td>0.0</td>\n",
       "    </tr>\n",
       "    <tr>\n",
       "      <td>1</td>\n",
       "      <td>zimbabw sanctions: targeted? https://t.co/lq3v...</td>\n",
       "      <td>0.0</td>\n",
       "      <td>one harvey weinstein' vocal accus file suit fo...</td>\n",
       "      <td>0.000</td>\n",
       "      <td>take look insid nordstrom' new york flagship s...</td>\n",
       "      <td>0.136364</td>\n",
       "      <td>rt bloombergtv: exclusive: singapore' central ...</td>\n",
       "      <td>0.0</td>\n",
       "      <td>break news: grand juri indict captain missouri...</td>\n",
       "      <td>0.5</td>\n",
       "    </tr>\n",
       "  </tbody>\n",
       "</table>\n",
       "</div>"
      ],
      "text/plain": [
       "                                                 BBC  senti_score_BBC  \\\n",
       "0  us elect 2020: trump steal biden' pitch latino...              0.8   \n",
       "1  zimbabw sanctions: targeted? https://t.co/lq3v...              0.0   \n",
       "\n",
       "                                                 CNN  senti_score_CNN  \\\n",
       "0  protest secur forc repeatedli clash chile past...           -0.275   \n",
       "1  one harvey weinstein' vocal accus file suit fo...            0.000   \n",
       "\n",
       "                                                CNBC  senti_score_CNBC  \\\n",
       "0  5 money mistak destroy marriage. https://t.co/...         -0.200000   \n",
       "1  take look insid nordstrom' new york flagship s...          0.136364   \n",
       "\n",
       "                                               BLOOM  senti_score_BLOOM  \\\n",
       "0  one world’ top dealmak consid bid spanish-lang...                0.5   \n",
       "1  rt bloombergtv: exclusive: singapore' central ...                0.0   \n",
       "\n",
       "                                                 FOX  senti_score_FOX  \n",
       "0  breaking: feder appeal court rule trump admini...              0.0  \n",
       "1  break news: grand juri indict captain missouri...              0.5  "
      ]
     },
     "execution_count": 19,
     "metadata": {},
     "output_type": "execute_result"
    }
   ],
   "source": [
    "main_data.head(2)"
   ]
  },
  {
   "cell_type": "code",
   "execution_count": 20,
   "metadata": {},
   "outputs": [
    {
     "name": "stdout",
     "output_type": "stream",
     "text": [
      "Int64Index([0, 41, 115, 161], dtype='int64')\n"
     ]
    }
   ],
   "source": [
    "#main_data.loc[main_data['senti_score_BBC'].idxmax()]\n",
    "#print(main_data[['BBC']][main_data.senti_score_BBC == main_data.senti_score_BBC.max()])\n",
    "hold = (main_data[['BBC']][main_data.senti_score_BBC == main_data.senti_score_BBC.max()])\n",
    "hold1 = (main_data[['CNN']][main_data.senti_score_CNN == main_data.senti_score_CNN.max()])\n",
    "hold2 = (main_data[['CNBC']][main_data.senti_score_CNBC == main_data.senti_score_CNBC.max()])\n",
    "hold3 = (main_data[['BLOOM']][main_data.senti_score_BLOOM == main_data.senti_score_BLOOM.max()])\n",
    "hold4 = (main_data[['FOX']][main_data.senti_score_FOX == main_data.senti_score_FOX.max()])\n",
    "BBC_index = hold.index\n",
    "CNN_index = hold1.index\n",
    "CNBC_index = hold2.index\n",
    "BLOOM_index = hold3.index\n",
    "FOX_index = hold4.index\n",
    "print(BBC_index)"
   ]
  },
  {
   "cell_type": "code",
   "execution_count": 21,
   "metadata": {},
   "outputs": [
    {
     "data": {
      "text/html": [
       "<div>\n",
       "<style scoped>\n",
       "    .dataframe tbody tr th:only-of-type {\n",
       "        vertical-align: middle;\n",
       "    }\n",
       "\n",
       "    .dataframe tbody tr th {\n",
       "        vertical-align: top;\n",
       "    }\n",
       "\n",
       "    .dataframe thead th {\n",
       "        text-align: right;\n",
       "    }\n",
       "</style>\n",
       "<table border=\"1\" class=\"dataframe\">\n",
       "  <thead>\n",
       "    <tr style=\"text-align: right;\">\n",
       "      <th></th>\n",
       "      <th>BBC</th>\n",
       "      <th>CNN</th>\n",
       "      <th>CNBC</th>\n",
       "      <th>BLOOM</th>\n",
       "      <th>FOX</th>\n",
       "    </tr>\n",
       "  </thead>\n",
       "  <tbody>\n",
       "    <tr>\n",
       "      <td>0</td>\n",
       "      <td>US election 2020: Trump steals Biden's pitch t...</td>\n",
       "      <td>Protesters and security forces have repeatedly...</td>\n",
       "      <td>Here are 5 money mistakes that can destroy a m...</td>\n",
       "      <td>One of the world’s top dealmakers is consideri...</td>\n",
       "      <td>BREAKING: Federal appeals court rules against ...</td>\n",
       "    </tr>\n",
       "    <tr>\n",
       "      <td>1</td>\n",
       "      <td>Zimbabwe sanctions: Who is being targeted? htt...</td>\n",
       "      <td>One of Harvey Weinstein's most vocal accusers ...</td>\n",
       "      <td>Take a look inside Nordstrom's New York flagsh...</td>\n",
       "      <td>RT @BloombergTV: EXCLUSIVE: Singapore's centra...</td>\n",
       "      <td>Breaking News: Grand jury indicts captain of M...</td>\n",
       "    </tr>\n",
       "    <tr>\n",
       "      <td>2</td>\n",
       "      <td>Quiz of the week: How big was Google's Quantum...</td>\n",
       "      <td>Sen. Bernie Sanders released a comprehensive p...</td>\n",
       "      <td>What exactly is \"meat?\" As it turns out, many ...</td>\n",
       "      <td>RT @BloombergAU: Australian property is starti...</td>\n",
       "      <td>JUST IN: Police identify gunman who opened fir...</td>\n",
       "    </tr>\n",
       "  </tbody>\n",
       "</table>\n",
       "</div>"
      ],
      "text/plain": [
       "                                                 BBC  \\\n",
       "0  US election 2020: Trump steals Biden's pitch t...   \n",
       "1  Zimbabwe sanctions: Who is being targeted? htt...   \n",
       "2  Quiz of the week: How big was Google's Quantum...   \n",
       "\n",
       "                                                 CNN  \\\n",
       "0  Protesters and security forces have repeatedly...   \n",
       "1  One of Harvey Weinstein's most vocal accusers ...   \n",
       "2  Sen. Bernie Sanders released a comprehensive p...   \n",
       "\n",
       "                                                CNBC  \\\n",
       "0  Here are 5 money mistakes that can destroy a m...   \n",
       "1  Take a look inside Nordstrom's New York flagsh...   \n",
       "2  What exactly is \"meat?\" As it turns out, many ...   \n",
       "\n",
       "                                               BLOOM  \\\n",
       "0  One of the world’s top dealmakers is consideri...   \n",
       "1  RT @BloombergTV: EXCLUSIVE: Singapore's centra...   \n",
       "2  RT @BloombergAU: Australian property is starti...   \n",
       "\n",
       "                                                 FOX  \n",
       "0  BREAKING: Federal appeals court rules against ...  \n",
       "1  Breaking News: Grand jury indicts captain of M...  \n",
       "2  JUST IN: Police identify gunman who opened fir...  "
      ]
     },
     "execution_count": 21,
     "metadata": {},
     "output_type": "execute_result"
    }
   ],
   "source": [
    "main_data_untouched.head(3)"
   ]
  },
  {
   "cell_type": "code",
   "execution_count": 22,
   "metadata": {},
   "outputs": [
    {
     "data": {
      "text/html": [
       "<div>\n",
       "<style scoped>\n",
       "    .dataframe tbody tr th:only-of-type {\n",
       "        vertical-align: middle;\n",
       "    }\n",
       "\n",
       "    .dataframe tbody tr th {\n",
       "        vertical-align: top;\n",
       "    }\n",
       "\n",
       "    .dataframe thead th {\n",
       "        text-align: right;\n",
       "    }\n",
       "</style>\n",
       "<table border=\"1\" class=\"dataframe\">\n",
       "  <thead>\n",
       "    <tr style=\"text-align: right;\">\n",
       "      <th></th>\n",
       "      <th>BBC</th>\n",
       "      <th>CNN</th>\n",
       "      <th>CNBC</th>\n",
       "      <th>BLOOM</th>\n",
       "      <th>FOX</th>\n",
       "    </tr>\n",
       "  </thead>\n",
       "  <tbody>\n",
       "    <tr>\n",
       "      <td>0</td>\n",
       "      <td>US election 2020: Trump steals Biden's pitch t...</td>\n",
       "      <td>Protesters and security forces have repeatedly...</td>\n",
       "      <td>Here are 5 money mistakes that can destroy a m...</td>\n",
       "      <td>One of the world’s top dealmakers is consideri...</td>\n",
       "      <td>BREAKING: Federal appeals court rules against ...</td>\n",
       "    </tr>\n",
       "    <tr>\n",
       "      <td>1</td>\n",
       "      <td>Zimbabwe sanctions: Who is being targeted? htt...</td>\n",
       "      <td>One of Harvey Weinstein's most vocal accusers ...</td>\n",
       "      <td>Take a look inside Nordstrom's New York flagsh...</td>\n",
       "      <td>RT @BloombergTV: EXCLUSIVE: Singapore's centra...</td>\n",
       "      <td>Breaking News: Grand jury indicts captain of M...</td>\n",
       "    </tr>\n",
       "    <tr>\n",
       "      <td>2</td>\n",
       "      <td>Quiz of the week: How big was Google's Quantum...</td>\n",
       "      <td>Sen. Bernie Sanders released a comprehensive p...</td>\n",
       "      <td>What exactly is \"meat?\" As it turns out, many ...</td>\n",
       "      <td>RT @BloombergAU: Australian property is starti...</td>\n",
       "      <td>JUST IN: Police identify gunman who opened fir...</td>\n",
       "    </tr>\n",
       "  </tbody>\n",
       "</table>\n",
       "</div>"
      ],
      "text/plain": [
       "                                                 BBC  \\\n",
       "0  US election 2020: Trump steals Biden's pitch t...   \n",
       "1  Zimbabwe sanctions: Who is being targeted? htt...   \n",
       "2  Quiz of the week: How big was Google's Quantum...   \n",
       "\n",
       "                                                 CNN  \\\n",
       "0  Protesters and security forces have repeatedly...   \n",
       "1  One of Harvey Weinstein's most vocal accusers ...   \n",
       "2  Sen. Bernie Sanders released a comprehensive p...   \n",
       "\n",
       "                                                CNBC  \\\n",
       "0  Here are 5 money mistakes that can destroy a m...   \n",
       "1  Take a look inside Nordstrom's New York flagsh...   \n",
       "2  What exactly is \"meat?\" As it turns out, many ...   \n",
       "\n",
       "                                               BLOOM  \\\n",
       "0  One of the world’s top dealmakers is consideri...   \n",
       "1  RT @BloombergTV: EXCLUSIVE: Singapore's centra...   \n",
       "2  RT @BloombergAU: Australian property is starti...   \n",
       "\n",
       "                                                 FOX  \n",
       "0  BREAKING: Federal appeals court rules against ...  \n",
       "1  Breaking News: Grand jury indicts captain of M...  \n",
       "2  JUST IN: Police identify gunman who opened fir...  "
      ]
     },
     "execution_count": 22,
     "metadata": {},
     "output_type": "execute_result"
    }
   ],
   "source": [
    "main_data_untouched.head(3)"
   ]
  },
  {
   "cell_type": "code",
   "execution_count": 23,
   "metadata": {
    "scrolled": true
   },
   "outputs": [
    {
     "name": "stdout",
     "output_type": "stream",
     "text": [
      "0      US election 2020: Trump steals Biden's pitch t...\n",
      "41     Protests intensify in Bolivia as President Evo...\n",
      "115    House Rules: 'Bullied' reality TV star wins pa...\n",
      "161    Why Botswana's election could be decided by el...\n",
      "Name: BBC, dtype: object\n"
     ]
    }
   ],
   "source": [
    "Recommend_BBC = main_data_untouched.loc[BBC_index,'BBC']\n",
    "print(Recommend_BBC)"
   ]
  },
  {
   "cell_type": "code",
   "execution_count": 24,
   "metadata": {},
   "outputs": [
    {
     "name": "stdout",
     "output_type": "stream",
     "text": [
      "47    RT @cnni: BREAKING: Boris Johnson says he want...\n",
      "Name: CNN, dtype: object\n"
     ]
    }
   ],
   "source": [
    "Recommend_CNN = main_data_untouched.loc[CNN_index,'CNN']\n",
    "print(Recommend_CNN)"
   ]
  },
  {
   "cell_type": "code",
   "execution_count": 25,
   "metadata": {},
   "outputs": [
    {
     "name": "stdout",
     "output_type": "stream",
     "text": [
      "80     Tesla is having its best day in 6 years—here's...\n",
      "119    2019 is shaping up to be one of the best years...\n",
      "170    If Tesla’s premarket gain holds through tradin...\n",
      "Name: CNBC, dtype: object\n"
     ]
    }
   ],
   "source": [
    "Recommend_CNBC = main_data_untouched.loc[CNBC_index,'CNBC']\n",
    "print(Recommend_CNBC)"
   ]
  },
  {
   "cell_type": "code",
   "execution_count": 26,
   "metadata": {},
   "outputs": [
    {
     "name": "stdout",
     "output_type": "stream",
     "text": [
      "44     The Treasury Department moved to shield Venezu...\n",
      "125    2020 will be the year of the great antitrust a...\n",
      "130    U.K. Prime Minister Boris Johnson is seeking a...\n",
      "152    BREAKING: Boris Johnson will seek a snap elect...\n",
      "167    Joe Biden and Elizabeth Warren are pitching pr...\n",
      "Name: BLOOM, dtype: object\n"
     ]
    }
   ],
   "source": [
    "Recommend_BLOOM = main_data_untouched.loc[BLOOM_index,'BLOOM']\n",
    "print(Recommend_BLOOM)"
   ]
  },
  {
   "cell_type": "code",
   "execution_count": 27,
   "metadata": {},
   "outputs": [
    {
     "name": "stdout",
     "output_type": "stream",
     "text": [
      "43    .@TuckerCarlson: \"Supporting marriage and chil...\n",
      "88    .@TuckerCarlson: \"Supporting marriage and chil...\n",
      "Name: FOX, dtype: object\n"
     ]
    }
   ],
   "source": [
    "Recommend_FOX = main_data_untouched.loc[FOX_index,'FOX']\n",
    "print(Recommend_FOX)"
   ]
  },
  {
   "cell_type": "code",
   "execution_count": 28,
   "metadata": {},
   "outputs": [
    {
     "name": "stdout",
     "output_type": "stream",
     "text": [
      "Hello! My name is Jarvis, your news fetcher.\n",
      "Would you like me to fetch your news?\n"
     ]
    }
   ],
   "source": [
    "print(\"Hello! My name is Jarvis, your news fetcher.\")\n",
    "print(\"Would you like me to fetch your news?\")"
   ]
  },
  {
   "cell_type": "code",
   "execution_count": 29,
   "metadata": {},
   "outputs": [
    {
     "name": "stdout",
     "output_type": "stream",
     "text": [
      "yes or noyes\n"
     ]
    }
   ],
   "source": [
    "x =input(\"yes or no\")"
   ]
  },
  {
   "cell_type": "code",
   "execution_count": 30,
   "metadata": {},
   "outputs": [
    {
     "name": "stdout",
     "output_type": "stream",
     "text": [
      "OK great, do you have a preferred news channel?\n",
      "CNN or BLOOM or FOX or CNBC or BBC CNBC\n"
     ]
    }
   ],
   "source": [
    "if x == 'yes':\n",
    "    print(\"OK great, do you have a preferred news channel?\")\n",
    "    y = input(\"CNN or BLOOM or FOX or CNBC or BBC \")\n",
    "else:\n",
    "    print(\"Alright, have a good day, bye!\")\n",
    "    y = 'stop'"
   ]
  },
  {
   "cell_type": "code",
   "execution_count": 31,
   "metadata": {},
   "outputs": [
    {
     "name": "stdout",
     "output_type": "stream",
     "text": [
      "Do you have a preference for the most positive news or are you indifferent?\n",
      "positive or indifferent positive\n"
     ]
    }
   ],
   "source": [
    "if y == 'BBC':\n",
    "    print(\"Do you have a preference for the most positive news or are you indifferent?\")\n",
    "    y2 = input(\"positive or indifferent \")\n",
    "elif y == 'CNN':\n",
    "    print(\"Do you have a preference for the most positive news or are you indifferent?\")\n",
    "    y2 = input(\"positive or indifferent \")\n",
    "elif y == 'CNBC':\n",
    "    print(\"Do you have a preference for the most positive news or are you indifferent?\")\n",
    "    y2 = input(\"positive or indifferent \")\n",
    "elif y == 'FOX':\n",
    "    print(\"Do you have a preference for the most positive news or are you indifferent?\")\n",
    "    y2 = input(\"positive or indifferent \")\n",
    "elif y == 'BLOOM':\n",
    "    print(\"Do you have a preference for the most positive news or are you indifferent?\")\n",
    "    y2 = input(\"positive or indifferent \")\n",
    "elif y == 'stop':\n",
    "    y2 = 'stop'\n",
    "else:\n",
    "    print(\"I currently dont cover this news channel. Sorry and have a good day, bye!\")"
   ]
  },
  {
   "cell_type": "code",
   "execution_count": 32,
   "metadata": {},
   "outputs": [
    {
     "name": "stdout",
     "output_type": "stream",
     "text": [
      "80     Tesla is having its best day in 6 years—here's...\n",
      "119    2019 is shaping up to be one of the best years...\n",
      "170    If Tesla’s premarket gain holds through tradin...\n",
      "Name: CNBC, dtype: object\n"
     ]
    }
   ],
   "source": [
    "if y == 'BBC' and y2 == 'positive':\n",
    "    print (Recommend_BBC)\n",
    "elif y == 'BBC' and y2 == 'indifferent':\n",
    "    print(main_data_untouched['BBC'].head(3))\n",
    "elif y == 'CNN' and y2 == 'positive':\n",
    "    print (Recommend_CNN)\n",
    "elif y == 'CNN' and y2 == 'indifferent':\n",
    "    print (main_data_untouched['CNN'].head(3))\n",
    "elif y == 'CNBC' and y2 == 'positive':\n",
    "    print(Recommend_CNBC)\n",
    "elif y == 'CNBC' and y2 == 'indifferent':\n",
    "    print(main_data_untouched['CNBC'].head(3))\n",
    "elif y == 'FOX' and y2 == 'positive':\n",
    "    print (Recommend_FOX)\n",
    "elif y == 'FOX' and y2 == 'indifferent':\n",
    "    print(main_data_untouched['FOX'].head(3))\n",
    "elif y == 'BLOOM' and y2 == 'positive':\n",
    "    print (Recommend_BLOOM)\n",
    "elif y == 'BLOOM' and y2 == 'indifferent':\n",
    "    print(main_data_untouched['BLOOM'].head(3))\n",
    "elif y == 'stop' and y2 == 'stop':\n",
    "    print(\"I am happy to help you fetch your news when you are ready. Bye!\")\n",
    "else:\n",
    "    print(\"I dont understand your inputs, please retry again.Have a good day, bye!\")"
   ]
  },
  {
   "cell_type": "code",
   "execution_count": 33,
   "metadata": {},
   "outputs": [
    {
     "name": "stdout",
     "output_type": "stream",
     "text": [
      "CNBC\n"
     ]
    }
   ],
   "source": [
    "print(y)"
   ]
  },
  {
   "cell_type": "code",
   "execution_count": 34,
   "metadata": {},
   "outputs": [
    {
     "name": "stdout",
     "output_type": "stream",
     "text": [
      "positive\n"
     ]
    }
   ],
   "source": [
    "print(y2)"
   ]
  },
  {
   "cell_type": "code",
   "execution_count": null,
   "metadata": {},
   "outputs": [],
   "source": []
  }
 ],
 "metadata": {
  "kernelspec": {
   "display_name": "Python 3",
   "language": "python",
   "name": "python3"
  },
  "language_info": {
   "codemirror_mode": {
    "name": "ipython",
    "version": 3
   },
   "file_extension": ".py",
   "mimetype": "text/x-python",
   "name": "python",
   "nbconvert_exporter": "python",
   "pygments_lexer": "ipython3",
   "version": "3.6.9"
  }
 },
 "nbformat": 4,
 "nbformat_minor": 2
}
