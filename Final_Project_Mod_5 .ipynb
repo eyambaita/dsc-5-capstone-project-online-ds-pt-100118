{
 "cells": [
  {
   "cell_type": "code",
   "execution_count": 1,
   "metadata": {},
   "outputs": [],
   "source": [
    "#Module 5 project - Sentiment analysis of news companies twitter feed -BBC, CNN, CNBC, Bloomberg and FOX"
   ]
  },
  {
   "cell_type": "code",
   "execution_count": 2,
   "metadata": {},
   "outputs": [],
   "source": [
    "import tweepy           # To consume Twitter's API\n",
    "import pandas as pd     # To handle data\n",
    "import numpy as np      # For number computing\n",
    "\n",
    "# For plotting and visualization:\n",
    "from IPython.display import display\n",
    "import matplotlib.pyplot as plt\n",
    "import seaborn as sns\n",
    "%matplotlib inline\n",
    "import nltk\n",
    "from nltk import word_tokenize, sent_tokenize\n",
    "from nltk.corpus import stopwords\n",
    "from nltk.stem import LancasterStemmer, WordNetLemmatizer, PorterStemmer\n",
    "from textblob import TextBlob"
   ]
  },
  {
   "cell_type": "code",
   "execution_count": 3,
   "metadata": {},
   "outputs": [],
   "source": [
    "import json\n",
    "def get_keys(path):\n",
    "    with open(path) as f:\n",
    "        return json.load(f)"
   ]
  },
  {
   "cell_type": "code",
   "execution_count": 4,
   "metadata": {},
   "outputs": [],
   "source": [
    "# We import our access keys:\n",
    "#from credentials import *    # This will allow us to use the keys as variables\n",
    "keys = get_keys(\"/Users/eyambaita/.secret/api.json\")"
   ]
  },
  {
   "cell_type": "code",
   "execution_count": 5,
   "metadata": {},
   "outputs": [],
   "source": [
    "CONSUMER_KEY = keys['CONSUMER_KEY']\n",
    "CONSUMER_SECRET = keys['CONSUMER_SECRET']\n",
    "ACCESS_TOKEN = keys['ACCESS_TOKEN']\n",
    "ACCESS_SECRET = keys['ACCESS_SECRET']"
   ]
  },
  {
   "cell_type": "code",
   "execution_count": 6,
   "metadata": {},
   "outputs": [],
   "source": [
    "# API's setup:\n",
    "def twitter_setup():\n",
    "    \"\"\"\n",
    "    Utility function to setup the Twitter's API\n",
    "    with our access keys provided.\n",
    "    \"\"\"\n",
    "    # Authentication and access using keys:\n",
    "    auth = tweepy.OAuthHandler(CONSUMER_KEY, CONSUMER_SECRET)\n",
    "    auth.set_access_token(ACCESS_TOKEN, ACCESS_SECRET)\n",
    "\n",
    "    # Return API with authentication:\n",
    "    api = tweepy.API(auth)\n",
    "    return api"
   ]
  },
  {
   "cell_type": "code",
   "execution_count": 7,
   "metadata": {},
   "outputs": [],
   "source": [
    "# We create an extractor object:\n",
    "extractor = twitter_setup()\n",
    "\n",
    "# We create a tweet list as follows:\n",
    "tweets = extractor.user_timeline(screen_name=\"@BBCWorld\", count=200)\n",
    "tweets1 = extractor.user_timeline(screen_name=\"@CNN\", count=200)\n",
    "tweets2 = extractor.user_timeline(screen_name=\"@CNBC\", count=200)\n",
    "tweets3 = extractor.user_timeline(screen_name=\"@business\", count=200)\n",
    "tweets4 = extractor.user_timeline(screen_name=\"@FoxNews\", count=200)\n",
    "#print(\"Number of tweets extracted: {}.\\n\".format(len(tweets)))\n",
    "\n",
    "# We print the most recent 5 tweets:\n",
    "#print(\"5 recent tweets:\\n\")\n",
    "for tweet in tweets[:5]:\n",
    "    BBC=(tweet.text)\n",
    "for tweet1 in tweets1[:5]:\n",
    "    CNN=(tweet1.text)\n",
    "for tweet2 in tweets2[:5]:\n",
    "    CNBC=(tweet2.text)\n",
    "for tweet3 in tweets3[:5]:\n",
    "    BLOOM=(tweet3.text)\n",
    "for tweet4 in tweets4[:5]:\n",
    "    FOX=(tweet4.text)"
   ]
  },
  {
   "cell_type": "code",
   "execution_count": 8,
   "metadata": {},
   "outputs": [
    {
     "data": {
      "text/html": [
       "<div>\n",
       "<style scoped>\n",
       "    .dataframe tbody tr th:only-of-type {\n",
       "        vertical-align: middle;\n",
       "    }\n",
       "\n",
       "    .dataframe tbody tr th {\n",
       "        vertical-align: top;\n",
       "    }\n",
       "\n",
       "    .dataframe thead th {\n",
       "        text-align: right;\n",
       "    }\n",
       "</style>\n",
       "<table border=\"1\" class=\"dataframe\">\n",
       "  <thead>\n",
       "    <tr style=\"text-align: right;\">\n",
       "      <th></th>\n",
       "      <th>BBC</th>\n",
       "      <th>CNN</th>\n",
       "      <th>CNBC</th>\n",
       "      <th>BLOOM</th>\n",
       "      <th>FOX</th>\n",
       "    </tr>\n",
       "  </thead>\n",
       "  <tbody>\n",
       "    <tr>\n",
       "      <td>0</td>\n",
       "      <td>Iraq protests: Fresh clashes leave five people...</td>\n",
       "      <td>These women are all in senior positions on Dem...</td>\n",
       "      <td>This is billionaire Jeff Bezos' daily routine ...</td>\n",
       "      <td>These are the best (and worst) pension systems...</td>\n",
       "      <td>BREAKING: Federal appeals court rules against ...</td>\n",
       "    </tr>\n",
       "    <tr>\n",
       "      <td>1</td>\n",
       "      <td>India yoga: Inspirational teacher V Nanammal d...</td>\n",
       "      <td>The House Committee on Ethics announced it is ...</td>\n",
       "      <td>U.S. families waste $1,500 a year throwing out...</td>\n",
       "      <td>Facebook wants to get into banking, but bankin...</td>\n",
       "      <td>Breaking News: Grand jury indicts captain of M...</td>\n",
       "    </tr>\n",
       "    <tr>\n",
       "      <td>2</td>\n",
       "      <td>RT @BBCBreaking: Maurice Robinson, 25, charged...</td>\n",
       "      <td>A convoy of about 18 US military vehicles depa...</td>\n",
       "      <td>Alibaba's Jack Ma spent 10 years preparing for...</td>\n",
       "      <td>Authorities have seized luxury cars and expens...</td>\n",
       "      <td>JUST IN: Police identify gunman who opened fir...</td>\n",
       "    </tr>\n",
       "  </tbody>\n",
       "</table>\n",
       "</div>"
      ],
      "text/plain": [
       "                                                 BBC  \\\n",
       "0  Iraq protests: Fresh clashes leave five people...   \n",
       "1  India yoga: Inspirational teacher V Nanammal d...   \n",
       "2  RT @BBCBreaking: Maurice Robinson, 25, charged...   \n",
       "\n",
       "                                                 CNN  \\\n",
       "0  These women are all in senior positions on Dem...   \n",
       "1  The House Committee on Ethics announced it is ...   \n",
       "2  A convoy of about 18 US military vehicles depa...   \n",
       "\n",
       "                                                CNBC  \\\n",
       "0  This is billionaire Jeff Bezos' daily routine ...   \n",
       "1  U.S. families waste $1,500 a year throwing out...   \n",
       "2  Alibaba's Jack Ma spent 10 years preparing for...   \n",
       "\n",
       "                                               BLOOM  \\\n",
       "0  These are the best (and worst) pension systems...   \n",
       "1  Facebook wants to get into banking, but bankin...   \n",
       "2  Authorities have seized luxury cars and expens...   \n",
       "\n",
       "                                                 FOX  \n",
       "0  BREAKING: Federal appeals court rules against ...  \n",
       "1  Breaking News: Grand jury indicts captain of M...  \n",
       "2  JUST IN: Police identify gunman who opened fir...  "
      ]
     },
     "execution_count": 8,
     "metadata": {},
     "output_type": "execute_result"
    }
   ],
   "source": [
    "data=pd.DataFrame(data=[tweet.text for tweet in tweets],columns =['BBC'])\n",
    "data1 = pd.DataFrame(data=[tweet1.text for tweet1 in tweets1], columns=['CNN'])\n",
    "data2 = pd.DataFrame(data=[tweet2.text for tweet2 in tweets2], columns=['CNBC'])\n",
    "data3 = pd.DataFrame(data=[tweet3.text for tweet3 in tweets3], columns=['BLOOM'])\n",
    "data4 = pd.DataFrame(data=[tweet4.text for tweet4 in tweets4], columns=['FOX'])\n",
    "# We display the first 10 elements of the dataframe:\n",
    "main_data_untouched =pd.concat([data, data1, data2, data3, data4], axis=1, join='outer', sort=True)\n",
    "main_data = main_data_untouched.copy()\n",
    "main_data.head(3)"
   ]
  },
  {
   "cell_type": "code",
   "execution_count": 9,
   "metadata": {},
   "outputs": [
    {
     "data": {
      "text/html": [
       "<div>\n",
       "<style scoped>\n",
       "    .dataframe tbody tr th:only-of-type {\n",
       "        vertical-align: middle;\n",
       "    }\n",
       "\n",
       "    .dataframe tbody tr th {\n",
       "        vertical-align: top;\n",
       "    }\n",
       "\n",
       "    .dataframe thead th {\n",
       "        text-align: right;\n",
       "    }\n",
       "</style>\n",
       "<table border=\"1\" class=\"dataframe\">\n",
       "  <thead>\n",
       "    <tr style=\"text-align: right;\">\n",
       "      <th></th>\n",
       "      <th>BBC</th>\n",
       "      <th>CNN</th>\n",
       "      <th>CNBC</th>\n",
       "      <th>BLOOM</th>\n",
       "      <th>FOX</th>\n",
       "    </tr>\n",
       "  </thead>\n",
       "  <tbody>\n",
       "    <tr>\n",
       "      <td>0</td>\n",
       "      <td>Iraq protests: Fresh clashes leave five people...</td>\n",
       "      <td>These women are all in senior positions on Dem...</td>\n",
       "      <td>This is billionaire Jeff Bezos' daily routine ...</td>\n",
       "      <td>These are the best (and worst) pension systems...</td>\n",
       "      <td>BREAKING: Federal appeals court rules against ...</td>\n",
       "    </tr>\n",
       "    <tr>\n",
       "      <td>1</td>\n",
       "      <td>India yoga: Inspirational teacher V Nanammal d...</td>\n",
       "      <td>The House Committee on Ethics announced it is ...</td>\n",
       "      <td>U.S. families waste $1,500 a year throwing out...</td>\n",
       "      <td>Facebook wants to get into banking, but bankin...</td>\n",
       "      <td>Breaking News: Grand jury indicts captain of M...</td>\n",
       "    </tr>\n",
       "    <tr>\n",
       "      <td>2</td>\n",
       "      <td>RT @BBCBreaking: Maurice Robinson, 25, charged...</td>\n",
       "      <td>A convoy of about 18 US military vehicles depa...</td>\n",
       "      <td>Alibaba's Jack Ma spent 10 years preparing for...</td>\n",
       "      <td>Authorities have seized luxury cars and expens...</td>\n",
       "      <td>JUST IN: Police identify gunman who opened fir...</td>\n",
       "    </tr>\n",
       "  </tbody>\n",
       "</table>\n",
       "</div>"
      ],
      "text/plain": [
       "                                                 BBC  \\\n",
       "0  Iraq protests: Fresh clashes leave five people...   \n",
       "1  India yoga: Inspirational teacher V Nanammal d...   \n",
       "2  RT @BBCBreaking: Maurice Robinson, 25, charged...   \n",
       "\n",
       "                                                 CNN  \\\n",
       "0  These women are all in senior positions on Dem...   \n",
       "1  The House Committee on Ethics announced it is ...   \n",
       "2  A convoy of about 18 US military vehicles depa...   \n",
       "\n",
       "                                                CNBC  \\\n",
       "0  This is billionaire Jeff Bezos' daily routine ...   \n",
       "1  U.S. families waste $1,500 a year throwing out...   \n",
       "2  Alibaba's Jack Ma spent 10 years preparing for...   \n",
       "\n",
       "                                               BLOOM  \\\n",
       "0  These are the best (and worst) pension systems...   \n",
       "1  Facebook wants to get into banking, but bankin...   \n",
       "2  Authorities have seized luxury cars and expens...   \n",
       "\n",
       "                                                 FOX  \n",
       "0  BREAKING: Federal appeals court rules against ...  \n",
       "1  Breaking News: Grand jury indicts captain of M...  \n",
       "2  JUST IN: Police identify gunman who opened fir...  "
      ]
     },
     "execution_count": 9,
     "metadata": {},
     "output_type": "execute_result"
    }
   ],
   "source": [
    "main_data_untouched.head(3)"
   ]
  },
  {
   "cell_type": "code",
   "execution_count": 10,
   "metadata": {},
   "outputs": [
    {
     "data": {
      "text/html": [
       "<div>\n",
       "<style scoped>\n",
       "    .dataframe tbody tr th:only-of-type {\n",
       "        vertical-align: middle;\n",
       "    }\n",
       "\n",
       "    .dataframe tbody tr th {\n",
       "        vertical-align: top;\n",
       "    }\n",
       "\n",
       "    .dataframe thead th {\n",
       "        text-align: right;\n",
       "    }\n",
       "</style>\n",
       "<table border=\"1\" class=\"dataframe\">\n",
       "  <thead>\n",
       "    <tr style=\"text-align: right;\">\n",
       "      <th></th>\n",
       "      <th>BBC</th>\n",
       "      <th>CNN</th>\n",
       "      <th>CNBC</th>\n",
       "      <th>BLOOM</th>\n",
       "      <th>FOX</th>\n",
       "    </tr>\n",
       "  </thead>\n",
       "  <tbody>\n",
       "    <tr>\n",
       "      <td>0</td>\n",
       "      <td>iraq protests: fresh clashes leave five people...</td>\n",
       "      <td>these women are all in senior positions on dem...</td>\n",
       "      <td>this is billionaire jeff bezos' daily routine ...</td>\n",
       "      <td>these are the best (and worst) pension systems...</td>\n",
       "      <td>breaking: federal appeals court rules against ...</td>\n",
       "    </tr>\n",
       "    <tr>\n",
       "      <td>1</td>\n",
       "      <td>india yoga: inspirational teacher v nanammal d...</td>\n",
       "      <td>the house committee on ethics announced it is ...</td>\n",
       "      <td>u.s. families waste $1,500 a year throwing out...</td>\n",
       "      <td>facebook wants to get into banking, but bankin...</td>\n",
       "      <td>breaking news: grand jury indicts captain of m...</td>\n",
       "    </tr>\n",
       "  </tbody>\n",
       "</table>\n",
       "</div>"
      ],
      "text/plain": [
       "                                                 BBC  \\\n",
       "0  iraq protests: fresh clashes leave five people...   \n",
       "1  india yoga: inspirational teacher v nanammal d...   \n",
       "\n",
       "                                                 CNN  \\\n",
       "0  these women are all in senior positions on dem...   \n",
       "1  the house committee on ethics announced it is ...   \n",
       "\n",
       "                                                CNBC  \\\n",
       "0  this is billionaire jeff bezos' daily routine ...   \n",
       "1  u.s. families waste $1,500 a year throwing out...   \n",
       "\n",
       "                                               BLOOM  \\\n",
       "0  these are the best (and worst) pension systems...   \n",
       "1  facebook wants to get into banking, but bankin...   \n",
       "\n",
       "                                                 FOX  \n",
       "0  breaking: federal appeals court rules against ...  \n",
       "1  breaking news: grand jury indicts captain of m...  "
      ]
     },
     "execution_count": 10,
     "metadata": {},
     "output_type": "execute_result"
    }
   ],
   "source": [
    "#Lowercasing\n",
    "main_data['BBC'] = main_data['BBC'].apply(lambda x: \" \".join(x.lower() for x in x.split()))\n",
    "main_data['CNN'] = main_data['CNN'].apply(lambda x: \" \".join(x.lower() for x in x.split()))\n",
    "main_data['CNBC'] = main_data['CNBC'].apply(lambda x: \" \".join(x.lower() for x in x.split()))\n",
    "main_data['BLOOM'] = main_data['BLOOM'].apply(lambda x: \" \".join(x.lower() for x in x.split()))\n",
    "main_data['FOX'] = main_data['FOX'].apply(lambda x: \" \".join(x.lower() for x in x.split()))\n",
    "main_data.head(2)"
   ]
  },
  {
   "cell_type": "code",
   "execution_count": 11,
   "metadata": {},
   "outputs": [
    {
     "data": {
      "text/html": [
       "<div>\n",
       "<style scoped>\n",
       "    .dataframe tbody tr th:only-of-type {\n",
       "        vertical-align: middle;\n",
       "    }\n",
       "\n",
       "    .dataframe tbody tr th {\n",
       "        vertical-align: top;\n",
       "    }\n",
       "\n",
       "    .dataframe thead th {\n",
       "        text-align: right;\n",
       "    }\n",
       "</style>\n",
       "<table border=\"1\" class=\"dataframe\">\n",
       "  <thead>\n",
       "    <tr style=\"text-align: right;\">\n",
       "      <th></th>\n",
       "      <th>BBC</th>\n",
       "      <th>CNN</th>\n",
       "      <th>CNBC</th>\n",
       "      <th>BLOOM</th>\n",
       "      <th>FOX</th>\n",
       "    </tr>\n",
       "  </thead>\n",
       "  <tbody>\n",
       "    <tr>\n",
       "      <td>0</td>\n",
       "      <td>iraq protests: fresh clashes leave five people...</td>\n",
       "      <td>these women are all in senior positions on dem...</td>\n",
       "      <td>this is billionaire jeff bezos' daily routine ...</td>\n",
       "      <td>these are the best (and worst) pension systems...</td>\n",
       "      <td>breaking: federal appeals court rules against ...</td>\n",
       "    </tr>\n",
       "    <tr>\n",
       "      <td>1</td>\n",
       "      <td>india yoga: inspirational teacher v nanammal d...</td>\n",
       "      <td>the house committee on ethics announced it is ...</td>\n",
       "      <td>u.s. families waste $1,500 a year throwing out...</td>\n",
       "      <td>facebook wants to get into banking, but bankin...</td>\n",
       "      <td>breaking news: grand jury indicts captain of m...</td>\n",
       "    </tr>\n",
       "  </tbody>\n",
       "</table>\n",
       "</div>"
      ],
      "text/plain": [
       "                                                 BBC  \\\n",
       "0  iraq protests: fresh clashes leave five people...   \n",
       "1  india yoga: inspirational teacher v nanammal d...   \n",
       "\n",
       "                                                 CNN  \\\n",
       "0  these women are all in senior positions on dem...   \n",
       "1  the house committee on ethics announced it is ...   \n",
       "\n",
       "                                                CNBC  \\\n",
       "0  this is billionaire jeff bezos' daily routine ...   \n",
       "1  u.s. families waste $1,500 a year throwing out...   \n",
       "\n",
       "                                               BLOOM  \\\n",
       "0  these are the best (and worst) pension systems...   \n",
       "1  facebook wants to get into banking, but bankin...   \n",
       "\n",
       "                                                 FOX  \n",
       "0  breaking: federal appeals court rules against ...  \n",
       "1  breaking news: grand jury indicts captain of m...  "
      ]
     },
     "execution_count": 11,
     "metadata": {},
     "output_type": "execute_result"
    }
   ],
   "source": [
    "## remove punctuation\n",
    "main_data['BBC'] = main_data['BBC'].str.replace('[@]','')\n",
    "main_data['CNN'] = main_data['CNN'].str.replace('[@]','')\n",
    "main_data['CNBC'] = main_data['CNBC'].str.replace('[@]','')\n",
    "main_data['BLOOM'] = main_data['BLOOM'].str.replace('[@]','')\n",
    "main_data['FOX'] = main_data['FOX'].str.replace('[@]','')\n",
    "main_data.head(2)"
   ]
  },
  {
   "cell_type": "code",
   "execution_count": 12,
   "metadata": {},
   "outputs": [
    {
     "data": {
      "text/html": [
       "<div>\n",
       "<style scoped>\n",
       "    .dataframe tbody tr th:only-of-type {\n",
       "        vertical-align: middle;\n",
       "    }\n",
       "\n",
       "    .dataframe tbody tr th {\n",
       "        vertical-align: top;\n",
       "    }\n",
       "\n",
       "    .dataframe thead th {\n",
       "        text-align: right;\n",
       "    }\n",
       "</style>\n",
       "<table border=\"1\" class=\"dataframe\">\n",
       "  <thead>\n",
       "    <tr style=\"text-align: right;\">\n",
       "      <th></th>\n",
       "      <th>BBC</th>\n",
       "      <th>CNN</th>\n",
       "      <th>CNBC</th>\n",
       "      <th>BLOOM</th>\n",
       "      <th>FOX</th>\n",
       "    </tr>\n",
       "  </thead>\n",
       "  <tbody>\n",
       "    <tr>\n",
       "      <td>0</td>\n",
       "      <td>iraq protests: fresh clashes leave five people...</td>\n",
       "      <td>women senior positions democratic presidential...</td>\n",
       "      <td>billionaire jeff bezos' daily routine sets suc...</td>\n",
       "      <td>best (and worst) pension systems world https:/...</td>\n",
       "      <td>breaking: federal appeals court rules trump ad...</td>\n",
       "    </tr>\n",
       "    <tr>\n",
       "      <td>1</td>\n",
       "      <td>india yoga: inspirational teacher v nanammal d...</td>\n",
       "      <td>house committee ethics announced opening inves...</td>\n",
       "      <td>u.s. families waste $1,500 year throwing food ...</td>\n",
       "      <td>facebook wants get banking, banking may want l...</td>\n",
       "      <td>breaking news: grand jury indicts captain miss...</td>\n",
       "    </tr>\n",
       "  </tbody>\n",
       "</table>\n",
       "</div>"
      ],
      "text/plain": [
       "                                                 BBC  \\\n",
       "0  iraq protests: fresh clashes leave five people...   \n",
       "1  india yoga: inspirational teacher v nanammal d...   \n",
       "\n",
       "                                                 CNN  \\\n",
       "0  women senior positions democratic presidential...   \n",
       "1  house committee ethics announced opening inves...   \n",
       "\n",
       "                                                CNBC  \\\n",
       "0  billionaire jeff bezos' daily routine sets suc...   \n",
       "1  u.s. families waste $1,500 year throwing food ...   \n",
       "\n",
       "                                               BLOOM  \\\n",
       "0  best (and worst) pension systems world https:/...   \n",
       "1  facebook wants get banking, banking may want l...   \n",
       "\n",
       "                                                 FOX  \n",
       "0  breaking: federal appeals court rules trump ad...  \n",
       "1  breaking news: grand jury indicts captain miss...  "
      ]
     },
     "execution_count": 12,
     "metadata": {},
     "output_type": "execute_result"
    }
   ],
   "source": [
    "#remove stopwords\n",
    "stop = stopwords.words('english')\n",
    "main_data['BBC'] = main_data['BBC'].apply(lambda x: \" \".join(x for x in x.split() if x not in stop))\n",
    "main_data['CNN'] = main_data['CNN'].apply(lambda x: \" \".join(x for x in x.split() if x not in stop))\n",
    "main_data['CNBC'] = main_data['CNBC'].apply(lambda x: \" \".join(x for x in x.split() if x not in stop))\n",
    "main_data['BLOOM'] = main_data['BLOOM'].apply(lambda x: \" \".join(x for x in x.split() if x not in stop))\n",
    "main_data['FOX'] = main_data['FOX'].apply(lambda x: \" \".join(x for x in x.split() if x not in stop))\n",
    "main_data.head(2)"
   ]
  },
  {
   "cell_type": "code",
   "execution_count": 13,
   "metadata": {},
   "outputs": [
    {
     "data": {
      "text/html": [
       "<div>\n",
       "<style scoped>\n",
       "    .dataframe tbody tr th:only-of-type {\n",
       "        vertical-align: middle;\n",
       "    }\n",
       "\n",
       "    .dataframe tbody tr th {\n",
       "        vertical-align: top;\n",
       "    }\n",
       "\n",
       "    .dataframe thead th {\n",
       "        text-align: right;\n",
       "    }\n",
       "</style>\n",
       "<table border=\"1\" class=\"dataframe\">\n",
       "  <thead>\n",
       "    <tr style=\"text-align: right;\">\n",
       "      <th></th>\n",
       "      <th>BBC</th>\n",
       "      <th>CNN</th>\n",
       "      <th>CNBC</th>\n",
       "      <th>BLOOM</th>\n",
       "      <th>FOX</th>\n",
       "    </tr>\n",
       "  </thead>\n",
       "  <tbody>\n",
       "    <tr>\n",
       "      <td>0</td>\n",
       "      <td>iraq protests: fresh clash leav five peopl dea...</td>\n",
       "      <td>women senior posit democrat presidenti campaig...</td>\n",
       "      <td>billionair jeff bezos' daili routin set succes...</td>\n",
       "      <td>best (and worst) pension system world https://...</td>\n",
       "      <td>breaking: feder appeal court rule trump admini...</td>\n",
       "    </tr>\n",
       "    <tr>\n",
       "      <td>1</td>\n",
       "      <td>india yoga: inspir teacher v nanamm die 99 htt...</td>\n",
       "      <td>hous committe ethic announc open investig alle...</td>\n",
       "      <td>u.s. famili wast $1,500 year throw food — here...</td>\n",
       "      <td>facebook want get banking, bank may want let f...</td>\n",
       "      <td>break news: grand juri indict captain missouri...</td>\n",
       "    </tr>\n",
       "  </tbody>\n",
       "</table>\n",
       "</div>"
      ],
      "text/plain": [
       "                                                 BBC  \\\n",
       "0  iraq protests: fresh clash leav five peopl dea...   \n",
       "1  india yoga: inspir teacher v nanamm die 99 htt...   \n",
       "\n",
       "                                                 CNN  \\\n",
       "0  women senior posit democrat presidenti campaig...   \n",
       "1  hous committe ethic announc open investig alle...   \n",
       "\n",
       "                                                CNBC  \\\n",
       "0  billionair jeff bezos' daili routin set succes...   \n",
       "1  u.s. famili wast $1,500 year throw food — here...   \n",
       "\n",
       "                                               BLOOM  \\\n",
       "0  best (and worst) pension system world https://...   \n",
       "1  facebook want get banking, bank may want let f...   \n",
       "\n",
       "                                                 FOX  \n",
       "0  breaking: feder appeal court rule trump admini...  \n",
       "1  break news: grand juri indict captain missouri...  "
      ]
     },
     "execution_count": 13,
     "metadata": {},
     "output_type": "execute_result"
    }
   ],
   "source": [
    "#Stemming\n",
    "st = PorterStemmer()\n",
    "main_data['BBC'] = main_data['BBC'].apply(lambda x: \" \".join([st.stem(word) for word in x.split()]))\n",
    "main_data['CNN'] = main_data['CNN'].apply(lambda x: \" \".join([st.stem(word) for word in x.split()]))\n",
    "main_data['CNBC'] = main_data['CNBC'].apply(lambda x: \" \".join([st.stem(word) for word in x.split()]))\n",
    "main_data['BLOOM'] = main_data['BLOOM'].apply(lambda x: \" \".join([st.stem(word) for word in x.split()]))\n",
    "main_data['FOX'] = main_data['FOX'].apply(lambda x: \" \".join([st.stem(word) for word in x.split()]))\n",
    "main_data.head(2)"
   ]
  },
  {
   "cell_type": "code",
   "execution_count": 14,
   "metadata": {},
   "outputs": [],
   "source": [
    "def senti(x):\n",
    "    return (TextBlob(x).sentiment.polarity)  \n",
    "###############################################\n",
    "#Used function below instead\n",
    "\n",
    "def analyze_sentiment(x):\n",
    "    '''\n",
    "    Utility function to classify the polarity of a tweet\n",
    "    using textblob.\n",
    "    '''\n",
    "    analysis = TextBlob(x)\n",
    "    if analysis.sentiment.polarity > 0:\n",
    "        return 1\n",
    "    elif analysis.sentiment.polarity == 0:\n",
    "        return 0\n",
    "    else:\n",
    "        return -1"
   ]
  },
  {
   "cell_type": "code",
   "execution_count": 15,
   "metadata": {},
   "outputs": [],
   "source": [
    "#As it can be observed there are two scores: \n",
    "#the first score is sentiment polarity which tells if the sentiment is positive or negative and \n",
    "#the second score is subjectivity score to tell how subjective is the text.\n",
    "#The sentiment property returns a namedtuple of the form Sentiment(polarity, subjectivity). \n",
    "#The polarity score is a float within the range [-1.0, 1.0]. \n",
    "#The subjectivity is a float within the range [0.0, 1.0] where 0.0 is very objective and 1.0 is very subjective."
   ]
  },
  {
   "cell_type": "code",
   "execution_count": 16,
   "metadata": {},
   "outputs": [
    {
     "data": {
      "text/html": [
       "<div>\n",
       "<style scoped>\n",
       "    .dataframe tbody tr th:only-of-type {\n",
       "        vertical-align: middle;\n",
       "    }\n",
       "\n",
       "    .dataframe tbody tr th {\n",
       "        vertical-align: top;\n",
       "    }\n",
       "\n",
       "    .dataframe thead th {\n",
       "        text-align: right;\n",
       "    }\n",
       "</style>\n",
       "<table border=\"1\" class=\"dataframe\">\n",
       "  <thead>\n",
       "    <tr style=\"text-align: right;\">\n",
       "      <th></th>\n",
       "      <th>BBC</th>\n",
       "      <th>CNN</th>\n",
       "      <th>CNBC</th>\n",
       "      <th>BLOOM</th>\n",
       "      <th>FOX</th>\n",
       "      <th>senti_score_BBC</th>\n",
       "      <th>senti_score_CNN</th>\n",
       "      <th>senti_score_CNBC</th>\n",
       "      <th>senti_score_BLOOM</th>\n",
       "      <th>senti_score_FOX</th>\n",
       "    </tr>\n",
       "  </thead>\n",
       "  <tbody>\n",
       "    <tr>\n",
       "      <td>0</td>\n",
       "      <td>iraq protests: fresh clash leav five peopl dea...</td>\n",
       "      <td>women senior posit democrat presidenti campaig...</td>\n",
       "      <td>billionair jeff bezos' daili routin set succes...</td>\n",
       "      <td>best (and worst) pension system world https://...</td>\n",
       "      <td>breaking: feder appeal court rule trump admini...</td>\n",
       "      <td>0.05</td>\n",
       "      <td>0.0</td>\n",
       "      <td>0.3</td>\n",
       "      <td>0.0</td>\n",
       "      <td>0.0</td>\n",
       "    </tr>\n",
       "    <tr>\n",
       "      <td>1</td>\n",
       "      <td>india yoga: inspir teacher v nanamm die 99 htt...</td>\n",
       "      <td>hous committe ethic announc open investig alle...</td>\n",
       "      <td>u.s. famili wast $1,500 year throw food — here...</td>\n",
       "      <td>facebook want get banking, bank may want let f...</td>\n",
       "      <td>break news: grand juri indict captain missouri...</td>\n",
       "      <td>0.00</td>\n",
       "      <td>0.0</td>\n",
       "      <td>0.0</td>\n",
       "      <td>0.0</td>\n",
       "      <td>0.5</td>\n",
       "    </tr>\n",
       "  </tbody>\n",
       "</table>\n",
       "</div>"
      ],
      "text/plain": [
       "                                                 BBC  \\\n",
       "0  iraq protests: fresh clash leav five peopl dea...   \n",
       "1  india yoga: inspir teacher v nanamm die 99 htt...   \n",
       "\n",
       "                                                 CNN  \\\n",
       "0  women senior posit democrat presidenti campaig...   \n",
       "1  hous committe ethic announc open investig alle...   \n",
       "\n",
       "                                                CNBC  \\\n",
       "0  billionair jeff bezos' daili routin set succes...   \n",
       "1  u.s. famili wast $1,500 year throw food — here...   \n",
       "\n",
       "                                               BLOOM  \\\n",
       "0  best (and worst) pension system world https://...   \n",
       "1  facebook want get banking, bank may want let f...   \n",
       "\n",
       "                                                 FOX  senti_score_BBC  \\\n",
       "0  breaking: feder appeal court rule trump admini...             0.05   \n",
       "1  break news: grand juri indict captain missouri...             0.00   \n",
       "\n",
       "   senti_score_CNN  senti_score_CNBC  senti_score_BLOOM  senti_score_FOX  \n",
       "0              0.0               0.3                0.0              0.0  \n",
       "1              0.0               0.0                0.0              0.5  "
      ]
     },
     "execution_count": 16,
     "metadata": {},
     "output_type": "execute_result"
    }
   ],
   "source": [
    "#main_data['senti_score_BBC'] = main_data['BBC'].apply(analyze_sentiment)\n",
    "#main_data['senti_score_CNN'] = main_data['CNN'].apply(analyze_sentiment)\n",
    "#main_data['senti_score_CNBC'] = main_data['CNBC'].apply(analyze_sentiment)\n",
    "#main_data['senti_score_BLOOM'] = main_data['BLOOM'].apply(analyze_sentiment)\n",
    "#main_data['senti_score_FOX'] = main_data['FOX'].apply(analyze_sentiment)\n",
    "main_data['senti_score_BBC'] = main_data['BBC'].apply(senti)\n",
    "main_data['senti_score_CNN'] = main_data['CNN'].apply(senti)\n",
    "main_data['senti_score_CNBC'] = main_data['CNBC'].apply(senti)\n",
    "main_data['senti_score_BLOOM'] = main_data['BLOOM'].apply(senti)\n",
    "main_data['senti_score_FOX'] = main_data['FOX'].apply(senti)\n",
    "main_data.head(2)"
   ]
  },
  {
   "cell_type": "code",
   "execution_count": 17,
   "metadata": {},
   "outputs": [
    {
     "data": {
      "image/png": "[encoded data removed]",
      "text/plain": [
       "<Figure size 576x360 with 1 Axes>"
      ]
     },
     "metadata": {
      "needs_background": "light"
     },
     "output_type": "display_data"
    },
    {
     "data": {
      "image/png": "[encoded data removed]",
      "text/plain": [
       "<Figure size 576x360 with 1 Axes>"
      ]
     },
     "metadata": {
      "needs_background": "light"
     },
     "output_type": "display_data"
    },
    {
     "data": {
      "image/png": "[encoded data removed]",
      "text/plain": [
       "<Figure size 576x360 with 1 Axes>"
      ]
     },
     "metadata": {
      "needs_background": "light"
     },
     "output_type": "display_data"
    },
    {
     "data": {
      "image/png": "[encoded data removed]",
      "text/plain": [
       "<Figure size 576x360 with 1 Axes>"
      ]
     },
     "metadata": {
      "needs_background": "light"
     },
     "output_type": "display_data"
    },
    {
     "data": {
      "image/png": "[encoded data removed]",
      "text/plain": [
       "<Figure size 576x360 with 1 Axes>"
      ]
     },
     "metadata": {
      "needs_background": "light"
     },
     "output_type": "display_data"
    }
   ],
   "source": [
    "#Visualization\n",
    "#main_data.senti_score_BBC.plot()\n",
    "\n",
    "#fig = plt.figure()\n",
    "plt.figure(figsize=(8,5))\n",
    "ax = main_data.senti_score_BBC.plot(color='red')\n",
    "ax.set_figsize=(15,140)\n",
    "ax.set_xlabel('Tweet Number')\n",
    "ax.set_ylabel('Tweet Sentiment')\n",
    "ax.set_title('Sentiment_BBC')\n",
    "plt.show()\n",
    "\n",
    "plt.figure(figsize=(8,5))\n",
    "bx = main_data.senti_score_CNN.plot(color='purple')\n",
    "bx.set_figsize=(15,140)\n",
    "bx.set_xlabel('Tweet Number')\n",
    "bx.set_ylabel('Tweet Sentiment')\n",
    "bx.set_title('Sentiment_CNN')\n",
    "bx.set_figsize=(15,140)\n",
    "#plt.figsize=(15,40)\n",
    "plt.show()\n",
    "\n",
    "plt.figure(figsize=(8,5))\n",
    "cx = main_data.senti_score_CNBC.plot(color='green')\n",
    "cx.set_figsize=(15,140)\n",
    "cx.set_xlabel('Tweet Number')\n",
    "cx.set_ylabel('Tweet Sentiment')\n",
    "cx.set_title('Sentiment_CNBC')\n",
    "cx.set_figsize=(15,140)\n",
    "#plt.figsize=(15,40)\n",
    "plt.show()\n",
    "\n",
    "plt.figure(figsize=(8,5))\n",
    "dx = main_data.senti_score_BLOOM.plot(color='blue')\n",
    "dx.set_figsize=(15,140)\n",
    "dx.set_xlabel('Tweet Number')\n",
    "dx.set_ylabel('Tweet Sentiment')\n",
    "dx.set_title('Sentiment_BLOOM')\n",
    "dx.set_figsize=(15,140)\n",
    "#plt.figsize=(15,40)\n",
    "plt.show()\n",
    "\n",
    "plt.figure(figsize=(8,5))\n",
    "ex = main_data.senti_score_FOX.plot(color='brown')\n",
    "ex.set_figsize=(15,140)\n",
    "ex.set_xlabel('Tweet Number')\n",
    "ex.set_ylabel('Tweet Sentiment')\n",
    "ex.set_title('Sentiment_FOX')\n",
    "ex.set_figsize=(15,140)\n",
    "#plt.figsize=(15,40)\n",
    "plt.show()\n",
    "\n",
    "#from matplotlib import pyplot as plt\n",
    "#plt.figure(figsize=(1,1))\n",
    "#x = [1,2,3]\n",
    "#plt.plot(x, x)\n",
    "#plt.show()\n"
   ]
  },
  {
   "cell_type": "code",
   "execution_count": 18,
   "metadata": {},
   "outputs": [],
   "source": [
    "main_data=main_data[['BBC','senti_score_BBC','CNN','senti_score_CNN','CNBC','senti_score_CNBC','BLOOM','senti_score_BLOOM','FOX','senti_score_FOX']]"
   ]
  },
  {
   "cell_type": "code",
   "execution_count": 19,
   "metadata": {},
   "outputs": [
    {
     "data": {
      "text/html": [
       "<div>\n",
       "<style scoped>\n",
       "    .dataframe tbody tr th:only-of-type {\n",
       "        vertical-align: middle;\n",
       "    }\n",
       "\n",
       "    .dataframe tbody tr th {\n",
       "        vertical-align: top;\n",
       "    }\n",
       "\n",
       "    .dataframe thead th {\n",
       "        text-align: right;\n",
       "    }\n",
       "</style>\n",
       "<table border=\"1\" class=\"dataframe\">\n",
       "  <thead>\n",
       "    <tr style=\"text-align: right;\">\n",
       "      <th></th>\n",
       "      <th>BBC</th>\n",
       "      <th>senti_score_BBC</th>\n",
       "      <th>CNN</th>\n",
       "      <th>senti_score_CNN</th>\n",
       "      <th>CNBC</th>\n",
       "      <th>senti_score_CNBC</th>\n",
       "      <th>BLOOM</th>\n",
       "      <th>senti_score_BLOOM</th>\n",
       "      <th>FOX</th>\n",
       "      <th>senti_score_FOX</th>\n",
       "    </tr>\n",
       "  </thead>\n",
       "  <tbody>\n",
       "    <tr>\n",
       "      <td>0</td>\n",
       "      <td>iraq protests: fresh clash leav five peopl dea...</td>\n",
       "      <td>0.05</td>\n",
       "      <td>women senior posit democrat presidenti campaig...</td>\n",
       "      <td>0.0</td>\n",
       "      <td>billionair jeff bezos' daili routin set succes...</td>\n",
       "      <td>0.3</td>\n",
       "      <td>best (and worst) pension system world https://...</td>\n",
       "      <td>0.0</td>\n",
       "      <td>breaking: feder appeal court rule trump admini...</td>\n",
       "      <td>0.0</td>\n",
       "    </tr>\n",
       "    <tr>\n",
       "      <td>1</td>\n",
       "      <td>india yoga: inspir teacher v nanamm die 99 htt...</td>\n",
       "      <td>0.00</td>\n",
       "      <td>hous committe ethic announc open investig alle...</td>\n",
       "      <td>0.0</td>\n",
       "      <td>u.s. famili wast $1,500 year throw food — here...</td>\n",
       "      <td>0.0</td>\n",
       "      <td>facebook want get banking, bank may want let f...</td>\n",
       "      <td>0.0</td>\n",
       "      <td>break news: grand juri indict captain missouri...</td>\n",
       "      <td>0.5</td>\n",
       "    </tr>\n",
       "  </tbody>\n",
       "</table>\n",
       "</div>"
      ],
      "text/plain": [
       "                                                 BBC  senti_score_BBC  \\\n",
       "0  iraq protests: fresh clash leav five peopl dea...             0.05   \n",
       "1  india yoga: inspir teacher v nanamm die 99 htt...             0.00   \n",
       "\n",
       "                                                 CNN  senti_score_CNN  \\\n",
       "0  women senior posit democrat presidenti campaig...              0.0   \n",
       "1  hous committe ethic announc open investig alle...              0.0   \n",
       "\n",
       "                                                CNBC  senti_score_CNBC  \\\n",
       "0  billionair jeff bezos' daili routin set succes...               0.3   \n",
       "1  u.s. famili wast $1,500 year throw food — here...               0.0   \n",
       "\n",
       "                                               BLOOM  senti_score_BLOOM  \\\n",
       "0  best (and worst) pension system world https://...                0.0   \n",
       "1  facebook want get banking, bank may want let f...                0.0   \n",
       "\n",
       "                                                 FOX  senti_score_FOX  \n",
       "0  breaking: feder appeal court rule trump admini...              0.0  \n",
       "1  break news: grand juri indict captain missouri...              0.5  "
      ]
     },
     "execution_count": 19,
     "metadata": {},
     "output_type": "execute_result"
    }
   ],
   "source": [
    "main_data.head(2)"
   ]
  },
  {
   "cell_type": "code",
   "execution_count": 20,
   "metadata": {},
   "outputs": [
    {
     "name": "stdout",
     "output_type": "stream",
     "text": [
      "Int64Index([5, 54, 95, 169], dtype='int64')\n"
     ]
    }
   ],
   "source": [
    "#main_data.loc[main_data['senti_score_BBC'].idxmax()]\n",
    "#print(main_data[['BBC']][main_data.senti_score_BBC == main_data.senti_score_BBC.max()])\n",
    "hold = (main_data[['BBC']][main_data.senti_score_BBC == main_data.senti_score_BBC.max()])\n",
    "hold1 = (main_data[['CNN']][main_data.senti_score_CNN == main_data.senti_score_CNN.max()])\n",
    "hold2 = (main_data[['CNBC']][main_data.senti_score_CNBC == main_data.senti_score_CNBC.max()])\n",
    "hold3 = (main_data[['BLOOM']][main_data.senti_score_BLOOM == main_data.senti_score_BLOOM.max()])\n",
    "hold4 = (main_data[['FOX']][main_data.senti_score_FOX == main_data.senti_score_FOX.max()])\n",
    "BBC_index = hold.index\n",
    "CNN_index = hold1.index\n",
    "CNBC_index = hold2.index\n",
    "BLOOM_index = hold3.index\n",
    "FOX_index = hold4.index\n",
    "print(BBC_index)"
   ]
  },
  {
   "cell_type": "code",
   "execution_count": 21,
   "metadata": {},
   "outputs": [
    {
     "data": {
      "text/html": [
       "<div>\n",
       "<style scoped>\n",
       "    .dataframe tbody tr th:only-of-type {\n",
       "        vertical-align: middle;\n",
       "    }\n",
       "\n",
       "    .dataframe tbody tr th {\n",
       "        vertical-align: top;\n",
       "    }\n",
       "\n",
       "    .dataframe thead th {\n",
       "        text-align: right;\n",
       "    }\n",
       "</style>\n",
       "<table border=\"1\" class=\"dataframe\">\n",
       "  <thead>\n",
       "    <tr style=\"text-align: right;\">\n",
       "      <th></th>\n",
       "      <th>BBC</th>\n",
       "      <th>CNN</th>\n",
       "      <th>CNBC</th>\n",
       "      <th>BLOOM</th>\n",
       "      <th>FOX</th>\n",
       "    </tr>\n",
       "  </thead>\n",
       "  <tbody>\n",
       "    <tr>\n",
       "      <td>0</td>\n",
       "      <td>Iraq protests: Fresh clashes leave five people...</td>\n",
       "      <td>These women are all in senior positions on Dem...</td>\n",
       "      <td>This is billionaire Jeff Bezos' daily routine ...</td>\n",
       "      <td>These are the best (and worst) pension systems...</td>\n",
       "      <td>BREAKING: Federal appeals court rules against ...</td>\n",
       "    </tr>\n",
       "    <tr>\n",
       "      <td>1</td>\n",
       "      <td>India yoga: Inspirational teacher V Nanammal d...</td>\n",
       "      <td>The House Committee on Ethics announced it is ...</td>\n",
       "      <td>U.S. families waste $1,500 a year throwing out...</td>\n",
       "      <td>Facebook wants to get into banking, but bankin...</td>\n",
       "      <td>Breaking News: Grand jury indicts captain of M...</td>\n",
       "    </tr>\n",
       "    <tr>\n",
       "      <td>2</td>\n",
       "      <td>RT @BBCBreaking: Maurice Robinson, 25, charged...</td>\n",
       "      <td>A convoy of about 18 US military vehicles depa...</td>\n",
       "      <td>Alibaba's Jack Ma spent 10 years preparing for...</td>\n",
       "      <td>Authorities have seized luxury cars and expens...</td>\n",
       "      <td>JUST IN: Police identify gunman who opened fir...</td>\n",
       "    </tr>\n",
       "  </tbody>\n",
       "</table>\n",
       "</div>"
      ],
      "text/plain": [
       "                                                 BBC  \\\n",
       "0  Iraq protests: Fresh clashes leave five people...   \n",
       "1  India yoga: Inspirational teacher V Nanammal d...   \n",
       "2  RT @BBCBreaking: Maurice Robinson, 25, charged...   \n",
       "\n",
       "                                                 CNN  \\\n",
       "0  These women are all in senior positions on Dem...   \n",
       "1  The House Committee on Ethics announced it is ...   \n",
       "2  A convoy of about 18 US military vehicles depa...   \n",
       "\n",
       "                                                CNBC  \\\n",
       "0  This is billionaire Jeff Bezos' daily routine ...   \n",
       "1  U.S. families waste $1,500 a year throwing out...   \n",
       "2  Alibaba's Jack Ma spent 10 years preparing for...   \n",
       "\n",
       "                                               BLOOM  \\\n",
       "0  These are the best (and worst) pension systems...   \n",
       "1  Facebook wants to get into banking, but bankin...   \n",
       "2  Authorities have seized luxury cars and expens...   \n",
       "\n",
       "                                                 FOX  \n",
       "0  BREAKING: Federal appeals court rules against ...  \n",
       "1  Breaking News: Grand jury indicts captain of M...  \n",
       "2  JUST IN: Police identify gunman who opened fir...  "
      ]
     },
     "execution_count": 21,
     "metadata": {},
     "output_type": "execute_result"
    }
   ],
   "source": [
    "main_data_untouched.head(3)"
   ]
  },
  {
   "cell_type": "code",
   "execution_count": 22,
   "metadata": {},
   "outputs": [
    {
     "data": {
      "text/html": [
       "<div>\n",
       "<style scoped>\n",
       "    .dataframe tbody tr th:only-of-type {\n",
       "        vertical-align: middle;\n",
       "    }\n",
       "\n",
       "    .dataframe tbody tr th {\n",
       "        vertical-align: top;\n",
       "    }\n",
       "\n",
       "    .dataframe thead th {\n",
       "        text-align: right;\n",
       "    }\n",
       "</style>\n",
       "<table border=\"1\" class=\"dataframe\">\n",
       "  <thead>\n",
       "    <tr style=\"text-align: right;\">\n",
       "      <th></th>\n",
       "      <th>BBC</th>\n",
       "      <th>CNN</th>\n",
       "      <th>CNBC</th>\n",
       "      <th>BLOOM</th>\n",
       "      <th>FOX</th>\n",
       "    </tr>\n",
       "  </thead>\n",
       "  <tbody>\n",
       "    <tr>\n",
       "      <td>0</td>\n",
       "      <td>Iraq protests: Fresh clashes leave five people...</td>\n",
       "      <td>These women are all in senior positions on Dem...</td>\n",
       "      <td>This is billionaire Jeff Bezos' daily routine ...</td>\n",
       "      <td>These are the best (and worst) pension systems...</td>\n",
       "      <td>BREAKING: Federal appeals court rules against ...</td>\n",
       "    </tr>\n",
       "    <tr>\n",
       "      <td>1</td>\n",
       "      <td>India yoga: Inspirational teacher V Nanammal d...</td>\n",
       "      <td>The House Committee on Ethics announced it is ...</td>\n",
       "      <td>U.S. families waste $1,500 a year throwing out...</td>\n",
       "      <td>Facebook wants to get into banking, but bankin...</td>\n",
       "      <td>Breaking News: Grand jury indicts captain of M...</td>\n",
       "    </tr>\n",
       "    <tr>\n",
       "      <td>2</td>\n",
       "      <td>RT @BBCBreaking: Maurice Robinson, 25, charged...</td>\n",
       "      <td>A convoy of about 18 US military vehicles depa...</td>\n",
       "      <td>Alibaba's Jack Ma spent 10 years preparing for...</td>\n",
       "      <td>Authorities have seized luxury cars and expens...</td>\n",
       "      <td>JUST IN: Police identify gunman who opened fir...</td>\n",
       "    </tr>\n",
       "  </tbody>\n",
       "</table>\n",
       "</div>"
      ],
      "text/plain": [
       "                                                 BBC  \\\n",
       "0  Iraq protests: Fresh clashes leave five people...   \n",
       "1  India yoga: Inspirational teacher V Nanammal d...   \n",
       "2  RT @BBCBreaking: Maurice Robinson, 25, charged...   \n",
       "\n",
       "                                                 CNN  \\\n",
       "0  These women are all in senior positions on Dem...   \n",
       "1  The House Committee on Ethics announced it is ...   \n",
       "2  A convoy of about 18 US military vehicles depa...   \n",
       "\n",
       "                                                CNBC  \\\n",
       "0  This is billionaire Jeff Bezos' daily routine ...   \n",
       "1  U.S. families waste $1,500 a year throwing out...   \n",
       "2  Alibaba's Jack Ma spent 10 years preparing for...   \n",
       "\n",
       "                                               BLOOM  \\\n",
       "0  These are the best (and worst) pension systems...   \n",
       "1  Facebook wants to get into banking, but bankin...   \n",
       "2  Authorities have seized luxury cars and expens...   \n",
       "\n",
       "                                                 FOX  \n",
       "0  BREAKING: Federal appeals court rules against ...  \n",
       "1  Breaking News: Grand jury indicts captain of M...  \n",
       "2  JUST IN: Police identify gunman who opened fir...  "
      ]
     },
     "execution_count": 22,
     "metadata": {},
     "output_type": "execute_result"
    }
   ],
   "source": [
    "main_data_untouched.head(3)"
   ]
  },
  {
   "cell_type": "code",
   "execution_count": 23,
   "metadata": {
    "scrolled": true
   },
   "outputs": [
    {
     "name": "stdout",
     "output_type": "stream",
     "text": [
      "5      About one million people joined a \"joyful and ...\n",
      "54     US election 2020: Trump steals Biden's pitch t...\n",
      "95     Protests intensify in Bolivia as President Evo...\n",
      "169    House Rules: 'Bullied' reality TV star wins pa...\n",
      "Name: BBC, dtype: object\n"
     ]
    }
   ],
   "source": [
    "Recommend_BBC = main_data_untouched.loc[BBC_index,'BBC']\n",
    "print(Recommend_BBC)"
   ]
  },
  {
   "cell_type": "code",
   "execution_count": 24,
   "metadata": {},
   "outputs": [
    {
     "name": "stdout",
     "output_type": "stream",
     "text": [
      "57    \"With the death of Elijah Cummings, the United...\n",
      "Name: CNN, dtype: object\n"
     ]
    }
   ],
   "source": [
    "Recommend_CNN = main_data_untouched.loc[CNN_index,'CNN']\n",
    "print(Recommend_CNN)"
   ]
  },
  {
   "cell_type": "code",
   "execution_count": 25,
   "metadata": {},
   "outputs": [
    {
     "name": "stdout",
     "output_type": "stream",
     "text": [
      "13     These are the 10 best universities in the worl...\n",
      "49     Here are the best calls of the week on Wall St...\n",
      "58     These are the 10 best universities in the worl...\n",
      "82     This is the best answer I ever received to the...\n",
      "199    Intel CEO, as shares soar, talks about how to ...\n",
      "Name: CNBC, dtype: object\n"
     ]
    }
   ],
   "source": [
    "Recommend_CNBC = main_data_untouched.loc[CNBC_index,'CNBC']\n",
    "print(Recommend_CNBC)"
   ]
  },
  {
   "cell_type": "code",
   "execution_count": 26,
   "metadata": {},
   "outputs": [
    {
     "name": "stdout",
     "output_type": "stream",
     "text": [
      "64    The House impeachment inquiry lurched into hig...\n",
      "Name: BLOOM, dtype: object\n"
     ]
    }
   ],
   "source": [
    "Recommend_BLOOM = main_data_untouched.loc[BLOOM_index,'BLOOM']\n",
    "print(Recommend_BLOOM)"
   ]
  },
  {
   "cell_type": "code",
   "execution_count": 27,
   "metadata": {},
   "outputs": [
    {
     "name": "stdout",
     "output_type": "stream",
     "text": [
      "43    .@TuckerCarlson: \"Supporting marriage and chil...\n",
      "88    .@TuckerCarlson: \"Supporting marriage and chil...\n",
      "Name: FOX, dtype: object\n"
     ]
    }
   ],
   "source": [
    "Recommend_FOX = main_data_untouched.loc[FOX_index,'FOX']\n",
    "print(Recommend_FOX)"
   ]
  },
  {
   "cell_type": "code",
   "execution_count": 28,
   "metadata": {},
   "outputs": [
    {
     "name": "stdout",
     "output_type": "stream",
     "text": [
      "Hello! My name is Jarvis, your news fetcher.\n",
      "Would you like me to fetch your news?\n"
     ]
    }
   ],
   "source": [
    "print(\"Hello! My name is Jarvis, your news fetcher.\")\n",
    "print(\"Would you like me to fetch your news?\")"
   ]
  },
  {
   "cell_type": "code",
   "execution_count": 29,
   "metadata": {},
   "outputs": [
    {
     "name": "stdout",
     "output_type": "stream",
     "text": [
      "yes or noyes\n"
     ]
    }
   ],
   "source": [
    "x =input(\"yes or no\")"
   ]
  },
  {
   "cell_type": "code",
   "execution_count": 30,
   "metadata": {},
   "outputs": [
    {
     "name": "stdout",
     "output_type": "stream",
     "text": [
      "OK great, do you have a preferred news channel?\n",
      "CNN or BLOOM or FOX or CNBC or BBC FOX\n"
     ]
    }
   ],
   "source": [
    "if x == 'yes':\n",
    "    print(\"OK great, do you have a preferred news channel?\")\n",
    "    y = input(\"CNN or BLOOM or FOX or CNBC or BBC \")\n",
    "else:\n",
    "    print(\"Alright, have a good day, bye!\")\n",
    "    y = 'stop'"
   ]
  },
  {
   "cell_type": "code",
   "execution_count": 31,
   "metadata": {},
   "outputs": [
    {
     "name": "stdout",
     "output_type": "stream",
     "text": [
      "Do you have a preference for the most positive news or are you indifferent?\n",
      "positive or indifferent positive\n"
     ]
    }
   ],
   "source": [
    "if y == 'BBC':\n",
    "    print(\"Do you have a preference for the most positive news or are you indifferent?\")\n",
    "    y2 = input(\"positive or indifferent \")\n",
    "elif y == 'CNN':\n",
    "    print(\"Do you have a preference for the most positive news or are you indifferent?\")\n",
    "    y2 = input(\"positive or indifferent \")\n",
    "elif y == 'CNBC':\n",
    "    print(\"Do you have a preference for the most positive news or are you indifferent?\")\n",
    "    y2 = input(\"positive or indifferent \")\n",
    "elif y == 'FOX':\n",
    "    print(\"Do you have a preference for the most positive news or are you indifferent?\")\n",
    "    y2 = input(\"positive or indifferent \")\n",
    "elif y == 'BLOOM':\n",
    "    print(\"Do you have a preference for the most positive news or are you indifferent?\")\n",
    "    y2 = input(\"positive or indifferent \")\n",
    "elif y == 'stop':\n",
    "    y2 = 'stop'\n",
    "else:\n",
    "    print(\"I currently dont cover this news channel. Sorry and have a good day, bye!\")"
   ]
  },
  {
   "cell_type": "code",
   "execution_count": 32,
   "metadata": {},
   "outputs": [
    {
     "name": "stdout",
     "output_type": "stream",
     "text": [
      "43    .@TuckerCarlson: \"Supporting marriage and chil...\n",
      "88    .@TuckerCarlson: \"Supporting marriage and chil...\n",
      "Name: FOX, dtype: object\n"
     ]
    }
   ],
   "source": [
    "if y == 'BBC' and y2 == 'positive':\n",
    "    print (Recommend_BBC)\n",
    "elif y == 'BBC' and y2 == 'indifferent':\n",
    "    print(main_data_untouched['BBC'].head(3))\n",
    "elif y == 'CNN' and y2 == 'positive':\n",
    "    print (Recommend_CNN)\n",
    "elif y == 'CNN' and y2 == 'indifferent':\n",
    "    print (main_data_untouched['CNN'].head(3))\n",
    "elif y == 'CNBC' and y2 == 'positive':\n",
    "    print(Recommend_CNBC)\n",
    "elif y == 'CNBC' and y2 == 'indifferent':\n",
    "    print(main_data_untouched['CNBC'].head(3))\n",
    "elif y == 'FOX' and y2 == 'positive':\n",
    "    print (Recommend_FOX)\n",
    "elif y == 'FOX' and y2 == 'indifferent':\n",
    "    print(main_data_untouched['FOX'].head(3))\n",
    "elif y == 'BLOOM' and y2 == 'positive':\n",
    "    print (Recommend_BLOOM)\n",
    "elif y == 'BLOOM' and y2 == 'indifferent':\n",
    "    print(main_data_untouched['BLOOM'].head(3))\n",
    "elif y == 'stop' and y2 == 'stop':\n",
    "    print(\"I am happy to help you fetch your news when you are ready. Bye!\")\n",
    "else:\n",
    "    print(\"I dont understand your inputs, please retry again.Have a good day, bye!\")"
   ]
  },
  {
   "cell_type": "code",
   "execution_count": 33,
   "metadata": {},
   "outputs": [
    {
     "name": "stdout",
     "output_type": "stream",
     "text": [
      "FOX\n"
     ]
    }
   ],
   "source": [
    "print(y)"
   ]
  },
  {
   "cell_type": "code",
   "execution_count": 34,
   "metadata": {},
   "outputs": [
    {
     "name": "stdout",
     "output_type": "stream",
     "text": [
      "positive\n"
     ]
    }
   ],
   "source": [
    "print(y2)"
   ]
  },
  {
   "cell_type": "code",
   "execution_count": null,
   "metadata": {},
   "outputs": [],
   "source": []
  }
 ],
 "metadata": {
  "kernelspec": {
   "display_name": "Python 3",
   "language": "python",
   "name": "python3"
  },
  "language_info": {
   "codemirror_mode": {
    "name": "ipython",
    "version": 3
   },
   "file_extension": ".py",
   "mimetype": "text/x-python",
   "name": "python",
   "nbconvert_exporter": "python",
   "pygments_lexer": "ipython3",
   "version": "3.6.9"
  }
 },
 "nbformat": 4,
 "nbformat_minor": 2
}
