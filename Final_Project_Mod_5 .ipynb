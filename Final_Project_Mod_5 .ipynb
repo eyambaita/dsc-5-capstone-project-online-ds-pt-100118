{
 "cells": [
  {
   "cell_type": "code",
   "execution_count": 1,
   "metadata": {},
   "outputs": [],
   "source": [
    "#Module 5 project - Sentiment analysis of news companies twitter feed -BBC, CNN, CNBC, Bloomberg and FOX"
   ]
  },
  {
   "cell_type": "code",
   "execution_count": 2,
   "metadata": {},
   "outputs": [],
   "source": [
    "import tweepy           # To consume Twitter's API\n",
    "import pandas as pd     # To handle data\n",
    "import numpy as np      # For number computing\n",
    "\n",
    "# For plotting and visualization:\n",
    "from IPython.display import display\n",
    "import matplotlib.pyplot as plt\n",
    "import seaborn as sns\n",
    "%matplotlib inline\n",
    "import nltk\n",
    "from nltk import word_tokenize, sent_tokenize\n",
    "from nltk.corpus import stopwords\n",
    "from nltk.stem import LancasterStemmer, WordNetLemmatizer, PorterStemmer\n",
    "from textblob import TextBlob"
   ]
  },
  {
   "cell_type": "code",
   "execution_count": 3,
   "metadata": {},
   "outputs": [],
   "source": [
    "# We import our access keys:\n",
    "from credentials import *    # This will allow us to use the keys as variables"
   ]
  },
  {
   "cell_type": "code",
   "execution_count": 4,
   "metadata": {},
   "outputs": [],
   "source": [
    "# API's setup:\n",
    "def twitter_setup():\n",
    "    \"\"\"\n",
    "    Utility function to setup the Twitter's API\n",
    "    with our access keys provided.\n",
    "    \"\"\"\n",
    "    # Authentication and access using keys:\n",
    "    auth = tweepy.OAuthHandler(CONSUMER_KEY, CONSUMER_SECRET)\n",
    "    auth.set_access_token(ACCESS_TOKEN, ACCESS_SECRET)\n",
    "\n",
    "    # Return API with authentication:\n",
    "    api = tweepy.API(auth)\n",
    "    return api"
   ]
  },
  {
   "cell_type": "code",
   "execution_count": 5,
   "metadata": {},
   "outputs": [],
   "source": [
    "# We create an extractor object:\n",
    "extractor = twitter_setup()\n",
    "\n",
    "# We create a tweet list as follows:\n",
    "tweets = extractor.user_timeline(screen_name=\"@BBCWorld\", count=200)\n",
    "tweets1 = extractor.user_timeline(screen_name=\"@CNN\", count=200)\n",
    "tweets2 = extractor.user_timeline(screen_name=\"@CNBC\", count=200)\n",
    "tweets3 = extractor.user_timeline(screen_name=\"@business\", count=200)\n",
    "tweets4 = extractor.user_timeline(screen_name=\"@FoxNews\", count=200)\n",
    "#print(\"Number of tweets extracted: {}.\\n\".format(len(tweets)))\n",
    "\n",
    "# We print the most recent 5 tweets:\n",
    "#print(\"5 recent tweets:\\n\")\n",
    "for tweet in tweets[:5]:\n",
    "    BBC=(tweet.text)\n",
    "for tweet1 in tweets1[:5]:\n",
    "    CNN=(tweet1.text)\n",
    "for tweet2 in tweets2[:5]:\n",
    "    CNBC=(tweet2.text)\n",
    "for tweet3 in tweets3[:5]:\n",
    "    BLOOM=(tweet3.text)\n",
    "for tweet4 in tweets4[:5]:\n",
    "    FOX=(tweet4.text)"
   ]
  },
  {
   "cell_type": "code",
   "execution_count": 6,
   "metadata": {},
   "outputs": [
    {
     "data": {
      "text/html": [
       "<div>\n",
       "<style scoped>\n",
       "    .dataframe tbody tr th:only-of-type {\n",
       "        vertical-align: middle;\n",
       "    }\n",
       "\n",
       "    .dataframe tbody tr th {\n",
       "        vertical-align: top;\n",
       "    }\n",
       "\n",
       "    .dataframe thead th {\n",
       "        text-align: right;\n",
       "    }\n",
       "</style>\n",
       "<table border=\"1\" class=\"dataframe\">\n",
       "  <thead>\n",
       "    <tr style=\"text-align: right;\">\n",
       "      <th></th>\n",
       "      <th>BBC</th>\n",
       "      <th>CNN</th>\n",
       "      <th>CNBC</th>\n",
       "      <th>BLOOM</th>\n",
       "      <th>FOX</th>\n",
       "    </tr>\n",
       "  </thead>\n",
       "  <tbody>\n",
       "    <tr>\n",
       "      <td>0</td>\n",
       "      <td>Kim Ji-young, Born 1982: Feminist film reignit...</td>\n",
       "      <td>Felicity Huffman and Lori Laughlin became the ...</td>\n",
       "      <td>This Bill Gates-backed start-up is fighting wo...</td>\n",
       "      <td>Foreign firms welcome China's new investment l...</td>\n",
       "      <td>BREAKING: Federal appeals court rules against ...</td>\n",
       "    </tr>\n",
       "    <tr>\n",
       "      <td>1</td>\n",
       "      <td>House Rules: 'Bullied' reality TV star wins pa...</td>\n",
       "      <td>A seven-story building in the shape of a picni...</td>\n",
       "      <td>Growth in major Asian economies set to slow mo...</td>\n",
       "      <td>Here are the details of SoftBank's $9.5 billio...</td>\n",
       "      <td>Breaking News: Grand jury indicts captain of M...</td>\n",
       "    </tr>\n",
       "    <tr>\n",
       "      <td>2</td>\n",
       "      <td>Hong Kong releases murder suspect who sparked ...</td>\n",
       "      <td>Amber Guyger's appellate attorney has filed pa...</td>\n",
       "      <td>“We have a lot of momentum.” From drone delive...</td>\n",
       "      <td>Emerging-market stocks need an end to the trad...</td>\n",
       "      <td>JUST IN: Police identify gunman who opened fir...</td>\n",
       "    </tr>\n",
       "  </tbody>\n",
       "</table>\n",
       "</div>"
      ],
      "text/plain": [
       "                                                 BBC  \\\n",
       "0  Kim Ji-young, Born 1982: Feminist film reignit...   \n",
       "1  House Rules: 'Bullied' reality TV star wins pa...   \n",
       "2  Hong Kong releases murder suspect who sparked ...   \n",
       "\n",
       "                                                 CNN  \\\n",
       "0  Felicity Huffman and Lori Laughlin became the ...   \n",
       "1  A seven-story building in the shape of a picni...   \n",
       "2  Amber Guyger's appellate attorney has filed pa...   \n",
       "\n",
       "                                                CNBC  \\\n",
       "0  This Bill Gates-backed start-up is fighting wo...   \n",
       "1  Growth in major Asian economies set to slow mo...   \n",
       "2  “We have a lot of momentum.” From drone delive...   \n",
       "\n",
       "                                               BLOOM  \\\n",
       "0  Foreign firms welcome China's new investment l...   \n",
       "1  Here are the details of SoftBank's $9.5 billio...   \n",
       "2  Emerging-market stocks need an end to the trad...   \n",
       "\n",
       "                                                 FOX  \n",
       "0  BREAKING: Federal appeals court rules against ...  \n",
       "1  Breaking News: Grand jury indicts captain of M...  \n",
       "2  JUST IN: Police identify gunman who opened fir...  "
      ]
     },
     "execution_count": 6,
     "metadata": {},
     "output_type": "execute_result"
    }
   ],
   "source": [
    "data=pd.DataFrame(data=[tweet.text for tweet in tweets],columns =['BBC'])\n",
    "data1 = pd.DataFrame(data=[tweet1.text for tweet1 in tweets1], columns=['CNN'])\n",
    "data2 = pd.DataFrame(data=[tweet2.text for tweet2 in tweets2], columns=['CNBC'])\n",
    "data3 = pd.DataFrame(data=[tweet3.text for tweet3 in tweets3], columns=['BLOOM'])\n",
    "data4 = pd.DataFrame(data=[tweet4.text for tweet4 in tweets4], columns=['FOX'])\n",
    "# We display the first 10 elements of the dataframe:\n",
    "main_data=pd.concat([data, data1, data2, data3, data4], axis=1, join='outer', sort=True)\n",
    "main_data.head(3)"
   ]
  },
  {
   "cell_type": "code",
   "execution_count": 7,
   "metadata": {},
   "outputs": [
    {
     "data": {
      "text/html": [
       "<div>\n",
       "<style scoped>\n",
       "    .dataframe tbody tr th:only-of-type {\n",
       "        vertical-align: middle;\n",
       "    }\n",
       "\n",
       "    .dataframe tbody tr th {\n",
       "        vertical-align: top;\n",
       "    }\n",
       "\n",
       "    .dataframe thead th {\n",
       "        text-align: right;\n",
       "    }\n",
       "</style>\n",
       "<table border=\"1\" class=\"dataframe\">\n",
       "  <thead>\n",
       "    <tr style=\"text-align: right;\">\n",
       "      <th></th>\n",
       "      <th>BBC</th>\n",
       "      <th>CNN</th>\n",
       "      <th>CNBC</th>\n",
       "      <th>BLOOM</th>\n",
       "      <th>FOX</th>\n",
       "    </tr>\n",
       "  </thead>\n",
       "  <tbody>\n",
       "    <tr>\n",
       "      <td>0</td>\n",
       "      <td>kim ji-young, born 1982: feminist film reignit...</td>\n",
       "      <td>felicity huffman and lori laughlin became the ...</td>\n",
       "      <td>this bill gates-backed start-up is fighting wo...</td>\n",
       "      <td>foreign firms welcome china's new investment l...</td>\n",
       "      <td>breaking: federal appeals court rules against ...</td>\n",
       "    </tr>\n",
       "    <tr>\n",
       "      <td>1</td>\n",
       "      <td>house rules: 'bullied' reality tv star wins pa...</td>\n",
       "      <td>a seven-story building in the shape of a picni...</td>\n",
       "      <td>growth in major asian economies set to slow mo...</td>\n",
       "      <td>here are the details of softbank's $9.5 billio...</td>\n",
       "      <td>breaking news: grand jury indicts captain of m...</td>\n",
       "    </tr>\n",
       "  </tbody>\n",
       "</table>\n",
       "</div>"
      ],
      "text/plain": [
       "                                                 BBC  \\\n",
       "0  kim ji-young, born 1982: feminist film reignit...   \n",
       "1  house rules: 'bullied' reality tv star wins pa...   \n",
       "\n",
       "                                                 CNN  \\\n",
       "0  felicity huffman and lori laughlin became the ...   \n",
       "1  a seven-story building in the shape of a picni...   \n",
       "\n",
       "                                                CNBC  \\\n",
       "0  this bill gates-backed start-up is fighting wo...   \n",
       "1  growth in major asian economies set to slow mo...   \n",
       "\n",
       "                                               BLOOM  \\\n",
       "0  foreign firms welcome china's new investment l...   \n",
       "1  here are the details of softbank's $9.5 billio...   \n",
       "\n",
       "                                                 FOX  \n",
       "0  breaking: federal appeals court rules against ...  \n",
       "1  breaking news: grand jury indicts captain of m...  "
      ]
     },
     "execution_count": 7,
     "metadata": {},
     "output_type": "execute_result"
    }
   ],
   "source": [
    "#Lowercasing\n",
    "main_data['BBC'] = main_data['BBC'].apply(lambda x: \" \".join(x.lower() for x in x.split()))\n",
    "main_data['CNN'] = main_data['CNN'].apply(lambda x: \" \".join(x.lower() for x in x.split()))\n",
    "main_data['CNBC'] = main_data['CNBC'].apply(lambda x: \" \".join(x.lower() for x in x.split()))\n",
    "main_data['BLOOM'] = main_data['BLOOM'].apply(lambda x: \" \".join(x.lower() for x in x.split()))\n",
    "main_data['FOX'] = main_data['FOX'].apply(lambda x: \" \".join(x.lower() for x in x.split()))\n",
    "main_data.head(2)"
   ]
  },
  {
   "cell_type": "code",
   "execution_count": 8,
   "metadata": {},
   "outputs": [],
   "source": [
    "## remove punctuation\n",
    "#main_data['BBC'] = main_data['BBC'].str.replace('[^ws]','')\n",
    "#main_data['CNN'] = main_data['CNN'].str.replace('[^ws]','')\n",
    "#main_data['CNBC'] = main_data['CNBC'].str.replace('[^ws]','')\n",
    "#main_data['BLOOM'] = main_data['BLOOM'].str.replace('[^ws]','')\n",
    "#main_data['FOX'] = main_data['FOX'].str.replace('[^ws]','')\n",
    "#main_data.head(2)"
   ]
  },
  {
   "cell_type": "code",
   "execution_count": 9,
   "metadata": {},
   "outputs": [
    {
     "data": {
      "text/html": [
       "<div>\n",
       "<style scoped>\n",
       "    .dataframe tbody tr th:only-of-type {\n",
       "        vertical-align: middle;\n",
       "    }\n",
       "\n",
       "    .dataframe tbody tr th {\n",
       "        vertical-align: top;\n",
       "    }\n",
       "\n",
       "    .dataframe thead th {\n",
       "        text-align: right;\n",
       "    }\n",
       "</style>\n",
       "<table border=\"1\" class=\"dataframe\">\n",
       "  <thead>\n",
       "    <tr style=\"text-align: right;\">\n",
       "      <th></th>\n",
       "      <th>BBC</th>\n",
       "      <th>CNN</th>\n",
       "      <th>CNBC</th>\n",
       "      <th>BLOOM</th>\n",
       "      <th>FOX</th>\n",
       "    </tr>\n",
       "  </thead>\n",
       "  <tbody>\n",
       "    <tr>\n",
       "      <td>0</td>\n",
       "      <td>kim ji-young, born 1982: feminist film reignit...</td>\n",
       "      <td>felicity huffman lori laughlin became faces co...</td>\n",
       "      <td>bill gates-backed start-up fighting world hung...</td>\n",
       "      <td>foreign firms welcome china's new investment l...</td>\n",
       "      <td>breaking: federal appeals court rules trump ad...</td>\n",
       "    </tr>\n",
       "    <tr>\n",
       "      <td>1</td>\n",
       "      <td>house rules: 'bullied' reality tv star wins pa...</td>\n",
       "      <td>seven-story building shape picnic basket -- co...</td>\n",
       "      <td>growth major asian economies set slow expected...</td>\n",
       "      <td>details softbank's $9.5 billion rescue deal we...</td>\n",
       "      <td>breaking news: grand jury indicts captain miss...</td>\n",
       "    </tr>\n",
       "  </tbody>\n",
       "</table>\n",
       "</div>"
      ],
      "text/plain": [
       "                                                 BBC  \\\n",
       "0  kim ji-young, born 1982: feminist film reignit...   \n",
       "1  house rules: 'bullied' reality tv star wins pa...   \n",
       "\n",
       "                                                 CNN  \\\n",
       "0  felicity huffman lori laughlin became faces co...   \n",
       "1  seven-story building shape picnic basket -- co...   \n",
       "\n",
       "                                                CNBC  \\\n",
       "0  bill gates-backed start-up fighting world hung...   \n",
       "1  growth major asian economies set slow expected...   \n",
       "\n",
       "                                               BLOOM  \\\n",
       "0  foreign firms welcome china's new investment l...   \n",
       "1  details softbank's $9.5 billion rescue deal we...   \n",
       "\n",
       "                                                 FOX  \n",
       "0  breaking: federal appeals court rules trump ad...  \n",
       "1  breaking news: grand jury indicts captain miss...  "
      ]
     },
     "execution_count": 9,
     "metadata": {},
     "output_type": "execute_result"
    }
   ],
   "source": [
    "#remove stopwords\n",
    "stop = stopwords.words('english')\n",
    "main_data['BBC'] = main_data['BBC'].apply(lambda x: \" \".join(x for x in x.split() if x not in stop))\n",
    "main_data['CNN'] = main_data['CNN'].apply(lambda x: \" \".join(x for x in x.split() if x not in stop))\n",
    "main_data['CNBC'] = main_data['CNBC'].apply(lambda x: \" \".join(x for x in x.split() if x not in stop))\n",
    "main_data['BLOOM'] = main_data['BLOOM'].apply(lambda x: \" \".join(x for x in x.split() if x not in stop))\n",
    "main_data['FOX'] = main_data['FOX'].apply(lambda x: \" \".join(x for x in x.split() if x not in stop))\n",
    "main_data.head(2)"
   ]
  },
  {
   "cell_type": "code",
   "execution_count": 10,
   "metadata": {},
   "outputs": [
    {
     "data": {
      "text/html": [
       "<div>\n",
       "<style scoped>\n",
       "    .dataframe tbody tr th:only-of-type {\n",
       "        vertical-align: middle;\n",
       "    }\n",
       "\n",
       "    .dataframe tbody tr th {\n",
       "        vertical-align: top;\n",
       "    }\n",
       "\n",
       "    .dataframe thead th {\n",
       "        text-align: right;\n",
       "    }\n",
       "</style>\n",
       "<table border=\"1\" class=\"dataframe\">\n",
       "  <thead>\n",
       "    <tr style=\"text-align: right;\">\n",
       "      <th></th>\n",
       "      <th>BBC</th>\n",
       "      <th>CNN</th>\n",
       "      <th>CNBC</th>\n",
       "      <th>BLOOM</th>\n",
       "      <th>FOX</th>\n",
       "    </tr>\n",
       "  </thead>\n",
       "  <tbody>\n",
       "    <tr>\n",
       "      <td>0</td>\n",
       "      <td>kim ji-young, born 1982: feminist film reignit...</td>\n",
       "      <td>felic huffman lori laughlin becam face colleg ...</td>\n",
       "      <td>bill gates-back start-up fight world hunger ma...</td>\n",
       "      <td>foreign firm welcom china' new invest law http...</td>\n",
       "      <td>breaking: feder appeal court rule trump admini...</td>\n",
       "    </tr>\n",
       "    <tr>\n",
       "      <td>1</td>\n",
       "      <td>hous rules: 'bullied' realiti tv star win payo...</td>\n",
       "      <td>seven-stori build shape picnic basket -- compl...</td>\n",
       "      <td>growth major asian economi set slow expected, ...</td>\n",
       "      <td>detail softbank' $9.5 billion rescu deal wewor...</td>\n",
       "      <td>break news: grand juri indict captain missouri...</td>\n",
       "    </tr>\n",
       "  </tbody>\n",
       "</table>\n",
       "</div>"
      ],
      "text/plain": [
       "                                                 BBC  \\\n",
       "0  kim ji-young, born 1982: feminist film reignit...   \n",
       "1  hous rules: 'bullied' realiti tv star win payo...   \n",
       "\n",
       "                                                 CNN  \\\n",
       "0  felic huffman lori laughlin becam face colleg ...   \n",
       "1  seven-stori build shape picnic basket -- compl...   \n",
       "\n",
       "                                                CNBC  \\\n",
       "0  bill gates-back start-up fight world hunger ma...   \n",
       "1  growth major asian economi set slow expected, ...   \n",
       "\n",
       "                                               BLOOM  \\\n",
       "0  foreign firm welcom china' new invest law http...   \n",
       "1  detail softbank' $9.5 billion rescu deal wewor...   \n",
       "\n",
       "                                                 FOX  \n",
       "0  breaking: feder appeal court rule trump admini...  \n",
       "1  break news: grand juri indict captain missouri...  "
      ]
     },
     "execution_count": 10,
     "metadata": {},
     "output_type": "execute_result"
    }
   ],
   "source": [
    "#Stemming\n",
    "st = PorterStemmer()\n",
    "main_data['BBC'] = main_data['BBC'].apply(lambda x: \" \".join([st.stem(word) for word in x.split()]))\n",
    "main_data['CNN'] = main_data['CNN'].apply(lambda x: \" \".join([st.stem(word) for word in x.split()]))\n",
    "main_data['CNBC'] = main_data['CNBC'].apply(lambda x: \" \".join([st.stem(word) for word in x.split()]))\n",
    "main_data['BLOOM'] = main_data['BLOOM'].apply(lambda x: \" \".join([st.stem(word) for word in x.split()]))\n",
    "main_data['FOX'] = main_data['FOX'].apply(lambda x: \" \".join([st.stem(word) for word in x.split()]))\n",
    "main_data.head(2)"
   ]
  },
  {
   "cell_type": "code",
   "execution_count": 11,
   "metadata": {},
   "outputs": [],
   "source": [
    "def senti(x):\n",
    "    return TextBlob(x).sentiment  \n"
   ]
  },
  {
   "cell_type": "code",
   "execution_count": 12,
   "metadata": {},
   "outputs": [
    {
     "data": {
      "text/plain": [
       "0    (0.03333333333333333, 0.06666666666666667)\n",
       "1                                    (0.8, 0.4)\n",
       "2                                    (0.0, 0.0)\n",
       "3     (0.2787878787878788, 0.48484848484848486)\n",
       "4                                   (0.0, 0.05)\n",
       "Name: senti_score_BBC, dtype: object"
      ]
     },
     "execution_count": 12,
     "metadata": {},
     "output_type": "execute_result"
    }
   ],
   "source": [
    "main_data['senti_score_BBC'] = main_data['BBC'].apply(senti)\n",
    "main_data.senti_score_BBC.head()"
   ]
  },
  {
   "cell_type": "code",
   "execution_count": 13,
   "metadata": {},
   "outputs": [
    {
     "data": {
      "text/plain": [
       "['BBC', 'CNN', 'CNBC', 'BLOOM', 'FOX', 'senti_score_BBC']"
      ]
     },
     "execution_count": 13,
     "metadata": {},
     "output_type": "execute_result"
    }
   ],
   "source": [
    "list(main_data)"
   ]
  },
  {
   "cell_type": "code",
   "execution_count": 14,
   "metadata": {},
   "outputs": [],
   "source": [
    "#As it can be observed there are two scores: \n",
    "#the first score is sentiment polarity which tells if the sentiment is positive or negative and \n",
    "#the second score is subjectivity score to tell how subjective is the text."
   ]
  },
  {
   "cell_type": "code",
   "execution_count": null,
   "metadata": {},
   "outputs": [],
   "source": []
  },
  {
   "cell_type": "code",
   "execution_count": null,
   "metadata": {},
   "outputs": [],
   "source": []
  }
 ],
 "metadata": {
  "kernelspec": {
   "display_name": "Python 3",
   "language": "python",
   "name": "python3"
  },
  "language_info": {
   "codemirror_mode": {
    "name": "ipython",
    "version": 3
   },
   "file_extension": ".py",
   "mimetype": "text/x-python",
   "name": "python",
   "nbconvert_exporter": "python",
   "pygments_lexer": "ipython3",
   "version": "3.6.9"
  }
 },
 "nbformat": 4,
 "nbformat_minor": 2
}
