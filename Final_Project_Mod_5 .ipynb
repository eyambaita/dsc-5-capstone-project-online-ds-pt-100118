{
 "cells": [
  {
   "cell_type": "code",
   "execution_count": 1,
   "metadata": {},
   "outputs": [],
   "source": [
    "#Module 5 project - Sentiment analysis of news companies twitter feed -BBC, CNN, CNBC, Bloomberg and FOX"
   ]
  },
  {
   "cell_type": "code",
   "execution_count": 2,
   "metadata": {},
   "outputs": [],
   "source": [
    "import tweepy           # To consume Twitter's API\n",
    "import pandas as pd     # To handle data\n",
    "import numpy as np      # For number computing\n",
    "\n",
    "# For plotting and visualization:\n",
    "from IPython.display import display\n",
    "import matplotlib.pyplot as plt\n",
    "import seaborn as sns\n",
    "%matplotlib inline\n",
    "import nltk\n",
    "from nltk import word_tokenize, sent_tokenize\n",
    "from nltk.corpus import stopwords\n",
    "from nltk.stem import LancasterStemmer, WordNetLemmatizer, PorterStemmer\n",
    "from textblob import TextBlob"
   ]
  },
  {
   "cell_type": "code",
   "execution_count": 3,
   "metadata": {},
   "outputs": [],
   "source": [
    "import json\n",
    "def get_keys(path):\n",
    "    with open(path) as f:\n",
    "        return json.load(f)"
   ]
  },
  {
   "cell_type": "code",
   "execution_count": 4,
   "metadata": {},
   "outputs": [],
   "source": [
    "# We import our access keys:\n",
    "#from credentials import *    # This will allow us to use the keys as variables\n",
    "keys = get_keys(\"/Users/eyambaita/.secret/api.json\")"
   ]
  },
  {
   "cell_type": "code",
   "execution_count": 5,
   "metadata": {},
   "outputs": [],
   "source": [
    "CONSUMER_KEY = keys['CONSUMER_KEY']\n",
    "CONSUMER_SECRET = keys['CONSUMER_SECRET']\n",
    "ACCESS_TOKEN = keys['ACCESS_TOKEN']\n",
    "ACCESS_SECRET = keys['ACCESS_SECRET']"
   ]
  },
  {
   "cell_type": "code",
   "execution_count": 6,
   "metadata": {},
   "outputs": [],
   "source": [
    "# API's setup:\n",
    "def twitter_setup():\n",
    "    \"\"\"\n",
    "    Utility function to setup the Twitter's API\n",
    "    with our access keys provided.\n",
    "    \"\"\"\n",
    "    # Authentication and access using keys:\n",
    "    auth = tweepy.OAuthHandler(CONSUMER_KEY, CONSUMER_SECRET)\n",
    "    auth.set_access_token(ACCESS_TOKEN, ACCESS_SECRET)\n",
    "\n",
    "    # Return API with authentication:\n",
    "    api = tweepy.API(auth)\n",
    "    return api"
   ]
  },
  {
   "cell_type": "code",
   "execution_count": 7,
   "metadata": {},
   "outputs": [],
   "source": [
    "# We create an extractor object:\n",
    "extractor = twitter_setup()\n",
    "\n",
    "# We create a tweet list as follows:\n",
    "tweets = extractor.user_timeline(screen_name=\"@BBCWorld\", count=200)\n",
    "tweets1 = extractor.user_timeline(screen_name=\"@CNN\", count=200)\n",
    "tweets2 = extractor.user_timeline(screen_name=\"@CNBC\", count=200)\n",
    "tweets3 = extractor.user_timeline(screen_name=\"@business\", count=200)\n",
    "tweets4 = extractor.user_timeline(screen_name=\"@FoxNews\", count=200)\n",
    "#print(\"Number of tweets extracted: {}.\\n\".format(len(tweets)))\n",
    "\n",
    "# We print the most recent 5 tweets:\n",
    "#print(\"5 recent tweets:\\n\")\n",
    "for tweet in tweets[:5]:\n",
    "    BBC=(tweet.text)\n",
    "for tweet1 in tweets1[:5]:\n",
    "    CNN=(tweet1.text)\n",
    "for tweet2 in tweets2[:5]:\n",
    "    CNBC=(tweet2.text)\n",
    "for tweet3 in tweets3[:5]:\n",
    "    BLOOM=(tweet3.text)\n",
    "for tweet4 in tweets4[:5]:\n",
    "    FOX=(tweet4.text)"
   ]
  },
  {
   "cell_type": "code",
   "execution_count": 8,
   "metadata": {},
   "outputs": [
    {
     "data": {
      "text/html": [
       "<div>\n",
       "<style scoped>\n",
       "    .dataframe tbody tr th:only-of-type {\n",
       "        vertical-align: middle;\n",
       "    }\n",
       "\n",
       "    .dataframe tbody tr th {\n",
       "        vertical-align: top;\n",
       "    }\n",
       "\n",
       "    .dataframe thead th {\n",
       "        text-align: right;\n",
       "    }\n",
       "</style>\n",
       "<table border=\"1\" class=\"dataframe\">\n",
       "  <thead>\n",
       "    <tr style=\"text-align: right;\">\n",
       "      <th></th>\n",
       "      <th>BBC</th>\n",
       "      <th>CNN</th>\n",
       "      <th>CNBC</th>\n",
       "      <th>BLOOM</th>\n",
       "      <th>FOX</th>\n",
       "    </tr>\n",
       "  </thead>\n",
       "  <tbody>\n",
       "    <tr>\n",
       "      <td>0</td>\n",
       "      <td>RT @SallyBundockBBC: #Zuckerberg tries to conv...</td>\n",
       "      <td>The trans fats still hidden in many foods incr...</td>\n",
       "      <td>When you think about London, you might think o...</td>\n",
       "      <td>Forget the IPO. The hippest strategy is backin...</td>\n",
       "      <td>BREAKING: Federal appeals court rules against ...</td>\n",
       "    </tr>\n",
       "    <tr>\n",
       "      <td>1</td>\n",
       "      <td>Argentina election: Voters dream of breaking c...</td>\n",
       "      <td>\"For the record, as far as I could tell, alien...</td>\n",
       "      <td>Global recession is a top concern among Asia P...</td>\n",
       "      <td>-Asia is bracing for Treasury’s report on curr...</td>\n",
       "      <td>Breaking News: Grand jury indicts captain of M...</td>\n",
       "    </tr>\n",
       "    <tr>\n",
       "      <td>2</td>\n",
       "      <td>Indian 'tiger poacher who ate sloth bear penis...</td>\n",
       "      <td>US soccer superstar striker Alex Morgan and he...</td>\n",
       "      <td>“I’m not in favor of divorcing China, but I do...</td>\n",
       "      <td>The man allegedly behind the 1MDB heist parts ...</td>\n",
       "      <td>JUST IN: Police identify gunman who opened fir...</td>\n",
       "    </tr>\n",
       "  </tbody>\n",
       "</table>\n",
       "</div>"
      ],
      "text/plain": [
       "                                                 BBC  \\\n",
       "0  RT @SallyBundockBBC: #Zuckerberg tries to conv...   \n",
       "1  Argentina election: Voters dream of breaking c...   \n",
       "2  Indian 'tiger poacher who ate sloth bear penis...   \n",
       "\n",
       "                                                 CNN  \\\n",
       "0  The trans fats still hidden in many foods incr...   \n",
       "1  \"For the record, as far as I could tell, alien...   \n",
       "2  US soccer superstar striker Alex Morgan and he...   \n",
       "\n",
       "                                                CNBC  \\\n",
       "0  When you think about London, you might think o...   \n",
       "1  Global recession is a top concern among Asia P...   \n",
       "2  “I’m not in favor of divorcing China, but I do...   \n",
       "\n",
       "                                               BLOOM  \\\n",
       "0  Forget the IPO. The hippest strategy is backin...   \n",
       "1  -Asia is bracing for Treasury’s report on curr...   \n",
       "2  The man allegedly behind the 1MDB heist parts ...   \n",
       "\n",
       "                                                 FOX  \n",
       "0  BREAKING: Federal appeals court rules against ...  \n",
       "1  Breaking News: Grand jury indicts captain of M...  \n",
       "2  JUST IN: Police identify gunman who opened fir...  "
      ]
     },
     "execution_count": 8,
     "metadata": {},
     "output_type": "execute_result"
    }
   ],
   "source": [
    "data=pd.DataFrame(data=[tweet.text for tweet in tweets],columns =['BBC'])\n",
    "data1 = pd.DataFrame(data=[tweet1.text for tweet1 in tweets1], columns=['CNN'])\n",
    "data2 = pd.DataFrame(data=[tweet2.text for tweet2 in tweets2], columns=['CNBC'])\n",
    "data3 = pd.DataFrame(data=[tweet3.text for tweet3 in tweets3], columns=['BLOOM'])\n",
    "data4 = pd.DataFrame(data=[tweet4.text for tweet4 in tweets4], columns=['FOX'])\n",
    "# We display the first 10 elements of the dataframe:\n",
    "main_data_untouched =pd.concat([data, data1, data2, data3, data4], axis=1, join='outer', sort=True)\n",
    "main_data = main_data_untouched\n",
    "#main_data_untouched.head(3)\n",
    "main_data.head(3)"
   ]
  },
  {
   "cell_type": "code",
   "execution_count": 9,
   "metadata": {},
   "outputs": [
    {
     "data": {
      "text/html": [
       "<div>\n",
       "<style scoped>\n",
       "    .dataframe tbody tr th:only-of-type {\n",
       "        vertical-align: middle;\n",
       "    }\n",
       "\n",
       "    .dataframe tbody tr th {\n",
       "        vertical-align: top;\n",
       "    }\n",
       "\n",
       "    .dataframe thead th {\n",
       "        text-align: right;\n",
       "    }\n",
       "</style>\n",
       "<table border=\"1\" class=\"dataframe\">\n",
       "  <thead>\n",
       "    <tr style=\"text-align: right;\">\n",
       "      <th></th>\n",
       "      <th>BBC</th>\n",
       "      <th>CNN</th>\n",
       "      <th>CNBC</th>\n",
       "      <th>BLOOM</th>\n",
       "      <th>FOX</th>\n",
       "    </tr>\n",
       "  </thead>\n",
       "  <tbody>\n",
       "    <tr>\n",
       "      <td>0</td>\n",
       "      <td>rt @sallybundockbbc: #zuckerberg tries to conv...</td>\n",
       "      <td>the trans fats still hidden in many foods incr...</td>\n",
       "      <td>when you think about london, you might think o...</td>\n",
       "      <td>forget the ipo. the hippest strategy is backin...</td>\n",
       "      <td>breaking: federal appeals court rules against ...</td>\n",
       "    </tr>\n",
       "    <tr>\n",
       "      <td>1</td>\n",
       "      <td>argentina election: voters dream of breaking c...</td>\n",
       "      <td>\"for the record, as far as i could tell, alien...</td>\n",
       "      <td>global recession is a top concern among asia p...</td>\n",
       "      <td>-asia is bracing for treasury’s report on curr...</td>\n",
       "      <td>breaking news: grand jury indicts captain of m...</td>\n",
       "    </tr>\n",
       "  </tbody>\n",
       "</table>\n",
       "</div>"
      ],
      "text/plain": [
       "                                                 BBC  \\\n",
       "0  rt @sallybundockbbc: #zuckerberg tries to conv...   \n",
       "1  argentina election: voters dream of breaking c...   \n",
       "\n",
       "                                                 CNN  \\\n",
       "0  the trans fats still hidden in many foods incr...   \n",
       "1  \"for the record, as far as i could tell, alien...   \n",
       "\n",
       "                                                CNBC  \\\n",
       "0  when you think about london, you might think o...   \n",
       "1  global recession is a top concern among asia p...   \n",
       "\n",
       "                                               BLOOM  \\\n",
       "0  forget the ipo. the hippest strategy is backin...   \n",
       "1  -asia is bracing for treasury’s report on curr...   \n",
       "\n",
       "                                                 FOX  \n",
       "0  breaking: federal appeals court rules against ...  \n",
       "1  breaking news: grand jury indicts captain of m...  "
      ]
     },
     "execution_count": 9,
     "metadata": {},
     "output_type": "execute_result"
    }
   ],
   "source": [
    "#Lowercasing\n",
    "main_data['BBC'] = main_data['BBC'].apply(lambda x: \" \".join(x.lower() for x in x.split()))\n",
    "main_data['CNN'] = main_data['CNN'].apply(lambda x: \" \".join(x.lower() for x in x.split()))\n",
    "main_data['CNBC'] = main_data['CNBC'].apply(lambda x: \" \".join(x.lower() for x in x.split()))\n",
    "main_data['BLOOM'] = main_data['BLOOM'].apply(lambda x: \" \".join(x.lower() for x in x.split()))\n",
    "main_data['FOX'] = main_data['FOX'].apply(lambda x: \" \".join(x.lower() for x in x.split()))\n",
    "main_data.head(2)"
   ]
  },
  {
   "cell_type": "code",
   "execution_count": 10,
   "metadata": {},
   "outputs": [
    {
     "data": {
      "text/html": [
       "<div>\n",
       "<style scoped>\n",
       "    .dataframe tbody tr th:only-of-type {\n",
       "        vertical-align: middle;\n",
       "    }\n",
       "\n",
       "    .dataframe tbody tr th {\n",
       "        vertical-align: top;\n",
       "    }\n",
       "\n",
       "    .dataframe thead th {\n",
       "        text-align: right;\n",
       "    }\n",
       "</style>\n",
       "<table border=\"1\" class=\"dataframe\">\n",
       "  <thead>\n",
       "    <tr style=\"text-align: right;\">\n",
       "      <th></th>\n",
       "      <th>BBC</th>\n",
       "      <th>CNN</th>\n",
       "      <th>CNBC</th>\n",
       "      <th>BLOOM</th>\n",
       "      <th>FOX</th>\n",
       "    </tr>\n",
       "  </thead>\n",
       "  <tbody>\n",
       "    <tr>\n",
       "      <td>0</td>\n",
       "      <td>rt sallybundockbbc: #zuckerberg tries to convi...</td>\n",
       "      <td>the trans fats still hidden in many foods incr...</td>\n",
       "      <td>when you think about london, you might think o...</td>\n",
       "      <td>forget the ipo. the hippest strategy is backin...</td>\n",
       "      <td>breaking: federal appeals court rules against ...</td>\n",
       "    </tr>\n",
       "    <tr>\n",
       "      <td>1</td>\n",
       "      <td>argentina election: voters dream of breaking c...</td>\n",
       "      <td>\"for the record, as far as i could tell, alien...</td>\n",
       "      <td>global recession is a top concern among asia p...</td>\n",
       "      <td>-asia is bracing for treasury’s report on curr...</td>\n",
       "      <td>breaking news: grand jury indicts captain of m...</td>\n",
       "    </tr>\n",
       "  </tbody>\n",
       "</table>\n",
       "</div>"
      ],
      "text/plain": [
       "                                                 BBC  \\\n",
       "0  rt sallybundockbbc: #zuckerberg tries to convi...   \n",
       "1  argentina election: voters dream of breaking c...   \n",
       "\n",
       "                                                 CNN  \\\n",
       "0  the trans fats still hidden in many foods incr...   \n",
       "1  \"for the record, as far as i could tell, alien...   \n",
       "\n",
       "                                                CNBC  \\\n",
       "0  when you think about london, you might think o...   \n",
       "1  global recession is a top concern among asia p...   \n",
       "\n",
       "                                               BLOOM  \\\n",
       "0  forget the ipo. the hippest strategy is backin...   \n",
       "1  -asia is bracing for treasury’s report on curr...   \n",
       "\n",
       "                                                 FOX  \n",
       "0  breaking: federal appeals court rules against ...  \n",
       "1  breaking news: grand jury indicts captain of m...  "
      ]
     },
     "execution_count": 10,
     "metadata": {},
     "output_type": "execute_result"
    }
   ],
   "source": [
    "## remove punctuation\n",
    "main_data['BBC'] = main_data['BBC'].str.replace('[@]','')\n",
    "main_data['CNN'] = main_data['CNN'].str.replace('[@]','')\n",
    "main_data['CNBC'] = main_data['CNBC'].str.replace('[@]','')\n",
    "main_data['BLOOM'] = main_data['BLOOM'].str.replace('[@]','')\n",
    "main_data['FOX'] = main_data['FOX'].str.replace('[@]','')\n",
    "main_data.head(2)"
   ]
  },
  {
   "cell_type": "code",
   "execution_count": 11,
   "metadata": {},
   "outputs": [
    {
     "data": {
      "text/html": [
       "<div>\n",
       "<style scoped>\n",
       "    .dataframe tbody tr th:only-of-type {\n",
       "        vertical-align: middle;\n",
       "    }\n",
       "\n",
       "    .dataframe tbody tr th {\n",
       "        vertical-align: top;\n",
       "    }\n",
       "\n",
       "    .dataframe thead th {\n",
       "        text-align: right;\n",
       "    }\n",
       "</style>\n",
       "<table border=\"1\" class=\"dataframe\">\n",
       "  <thead>\n",
       "    <tr style=\"text-align: right;\">\n",
       "      <th></th>\n",
       "      <th>BBC</th>\n",
       "      <th>CNN</th>\n",
       "      <th>CNBC</th>\n",
       "      <th>BLOOM</th>\n",
       "      <th>FOX</th>\n",
       "    </tr>\n",
       "  </thead>\n",
       "  <tbody>\n",
       "    <tr>\n",
       "      <td>0</td>\n",
       "      <td>rt sallybundockbbc: #zuckerberg tries convince...</td>\n",
       "      <td>trans fats still hidden many foods increased r...</td>\n",
       "      <td>think london, might think tesco, largest retai...</td>\n",
       "      <td>forget ipo. hippest strategy backing tech comp...</td>\n",
       "      <td>breaking: federal appeals court rules trump ad...</td>\n",
       "    </tr>\n",
       "    <tr>\n",
       "      <td>1</td>\n",
       "      <td>argentina election: voters dream breaking cycl...</td>\n",
       "      <td>\"for record, far could tell, aliens never cont...</td>\n",
       "      <td>global recession top concern among asia pacifi...</td>\n",
       "      <td>-asia bracing treasury’s report currency manip...</td>\n",
       "      <td>breaking news: grand jury indicts captain miss...</td>\n",
       "    </tr>\n",
       "  </tbody>\n",
       "</table>\n",
       "</div>"
      ],
      "text/plain": [
       "                                                 BBC  \\\n",
       "0  rt sallybundockbbc: #zuckerberg tries convince...   \n",
       "1  argentina election: voters dream breaking cycl...   \n",
       "\n",
       "                                                 CNN  \\\n",
       "0  trans fats still hidden many foods increased r...   \n",
       "1  \"for record, far could tell, aliens never cont...   \n",
       "\n",
       "                                                CNBC  \\\n",
       "0  think london, might think tesco, largest retai...   \n",
       "1  global recession top concern among asia pacifi...   \n",
       "\n",
       "                                               BLOOM  \\\n",
       "0  forget ipo. hippest strategy backing tech comp...   \n",
       "1  -asia bracing treasury’s report currency manip...   \n",
       "\n",
       "                                                 FOX  \n",
       "0  breaking: federal appeals court rules trump ad...  \n",
       "1  breaking news: grand jury indicts captain miss...  "
      ]
     },
     "execution_count": 11,
     "metadata": {},
     "output_type": "execute_result"
    }
   ],
   "source": [
    "#remove stopwords\n",
    "stop = stopwords.words('english')\n",
    "main_data['BBC'] = main_data['BBC'].apply(lambda x: \" \".join(x for x in x.split() if x not in stop))\n",
    "main_data['CNN'] = main_data['CNN'].apply(lambda x: \" \".join(x for x in x.split() if x not in stop))\n",
    "main_data['CNBC'] = main_data['CNBC'].apply(lambda x: \" \".join(x for x in x.split() if x not in stop))\n",
    "main_data['BLOOM'] = main_data['BLOOM'].apply(lambda x: \" \".join(x for x in x.split() if x not in stop))\n",
    "main_data['FOX'] = main_data['FOX'].apply(lambda x: \" \".join(x for x in x.split() if x not in stop))\n",
    "main_data.head(2)"
   ]
  },
  {
   "cell_type": "code",
   "execution_count": 12,
   "metadata": {},
   "outputs": [
    {
     "data": {
      "text/html": [
       "<div>\n",
       "<style scoped>\n",
       "    .dataframe tbody tr th:only-of-type {\n",
       "        vertical-align: middle;\n",
       "    }\n",
       "\n",
       "    .dataframe tbody tr th {\n",
       "        vertical-align: top;\n",
       "    }\n",
       "\n",
       "    .dataframe thead th {\n",
       "        text-align: right;\n",
       "    }\n",
       "</style>\n",
       "<table border=\"1\" class=\"dataframe\">\n",
       "  <thead>\n",
       "    <tr style=\"text-align: right;\">\n",
       "      <th></th>\n",
       "      <th>BBC</th>\n",
       "      <th>CNN</th>\n",
       "      <th>CNBC</th>\n",
       "      <th>BLOOM</th>\n",
       "      <th>FOX</th>\n",
       "    </tr>\n",
       "  </thead>\n",
       "  <tbody>\n",
       "    <tr>\n",
       "      <td>0</td>\n",
       "      <td>rt sallybundockbbc: #zuckerberg tri convinc us...</td>\n",
       "      <td>tran fat still hidden mani food increas risk a...</td>\n",
       "      <td>think london, might think tesco, largest retai...</td>\n",
       "      <td>forget ipo. hippest strategi back tech compani...</td>\n",
       "      <td>breaking: feder appeal court rule trump admini...</td>\n",
       "    </tr>\n",
       "    <tr>\n",
       "      <td>1</td>\n",
       "      <td>argentina election: voter dream break cycl cri...</td>\n",
       "      <td>\"for record, far could tell, alien never conta...</td>\n",
       "      <td>global recess top concern among asia pacif bus...</td>\n",
       "      <td>-asia brace treasury’ report currenc manipul -...</td>\n",
       "      <td>break news: grand juri indict captain missouri...</td>\n",
       "    </tr>\n",
       "  </tbody>\n",
       "</table>\n",
       "</div>"
      ],
      "text/plain": [
       "                                                 BBC  \\\n",
       "0  rt sallybundockbbc: #zuckerberg tri convinc us...   \n",
       "1  argentina election: voter dream break cycl cri...   \n",
       "\n",
       "                                                 CNN  \\\n",
       "0  tran fat still hidden mani food increas risk a...   \n",
       "1  \"for record, far could tell, alien never conta...   \n",
       "\n",
       "                                                CNBC  \\\n",
       "0  think london, might think tesco, largest retai...   \n",
       "1  global recess top concern among asia pacif bus...   \n",
       "\n",
       "                                               BLOOM  \\\n",
       "0  forget ipo. hippest strategi back tech compani...   \n",
       "1  -asia brace treasury’ report currenc manipul -...   \n",
       "\n",
       "                                                 FOX  \n",
       "0  breaking: feder appeal court rule trump admini...  \n",
       "1  break news: grand juri indict captain missouri...  "
      ]
     },
     "execution_count": 12,
     "metadata": {},
     "output_type": "execute_result"
    }
   ],
   "source": [
    "#Stemming\n",
    "st = PorterStemmer()\n",
    "main_data['BBC'] = main_data['BBC'].apply(lambda x: \" \".join([st.stem(word) for word in x.split()]))\n",
    "main_data['CNN'] = main_data['CNN'].apply(lambda x: \" \".join([st.stem(word) for word in x.split()]))\n",
    "main_data['CNBC'] = main_data['CNBC'].apply(lambda x: \" \".join([st.stem(word) for word in x.split()]))\n",
    "main_data['BLOOM'] = main_data['BLOOM'].apply(lambda x: \" \".join([st.stem(word) for word in x.split()]))\n",
    "main_data['FOX'] = main_data['FOX'].apply(lambda x: \" \".join([st.stem(word) for word in x.split()]))\n",
    "main_data.head(2)"
   ]
  },
  {
   "cell_type": "code",
   "execution_count": 13,
   "metadata": {},
   "outputs": [],
   "source": [
    "def senti(x):\n",
    "    return (TextBlob(x).sentiment.polarity)  \n",
    "###############################################\n",
    "#Used function below instead\n",
    "\n",
    "def analyze_sentiment(x):\n",
    "    '''\n",
    "    Utility function to classify the polarity of a tweet\n",
    "    using textblob.\n",
    "    '''\n",
    "    analysis = TextBlob(x)\n",
    "    if analysis.sentiment.polarity > 0:\n",
    "        return 1\n",
    "    elif analysis.sentiment.polarity == 0:\n",
    "        return 0\n",
    "    else:\n",
    "        return -1"
   ]
  },
  {
   "cell_type": "code",
   "execution_count": 14,
   "metadata": {},
   "outputs": [],
   "source": [
    "#As it can be observed there are two scores: \n",
    "#the first score is sentiment polarity which tells if the sentiment is positive or negative and \n",
    "#the second score is subjectivity score to tell how subjective is the text.\n",
    "#The sentiment property returns a namedtuple of the form Sentiment(polarity, subjectivity). \n",
    "#The polarity score is a float within the range [-1.0, 1.0]. \n",
    "#The subjectivity is a float within the range [0.0, 1.0] where 0.0 is very objective and 1.0 is very subjective."
   ]
  },
  {
   "cell_type": "code",
   "execution_count": 15,
   "metadata": {},
   "outputs": [
    {
     "data": {
      "text/html": [
       "<div>\n",
       "<style scoped>\n",
       "    .dataframe tbody tr th:only-of-type {\n",
       "        vertical-align: middle;\n",
       "    }\n",
       "\n",
       "    .dataframe tbody tr th {\n",
       "        vertical-align: top;\n",
       "    }\n",
       "\n",
       "    .dataframe thead th {\n",
       "        text-align: right;\n",
       "    }\n",
       "</style>\n",
       "<table border=\"1\" class=\"dataframe\">\n",
       "  <thead>\n",
       "    <tr style=\"text-align: right;\">\n",
       "      <th></th>\n",
       "      <th>BBC</th>\n",
       "      <th>CNN</th>\n",
       "      <th>CNBC</th>\n",
       "      <th>BLOOM</th>\n",
       "      <th>FOX</th>\n",
       "      <th>senti_score_BBC</th>\n",
       "      <th>senti_score_CNN</th>\n",
       "      <th>senti_score_CNBC</th>\n",
       "      <th>senti_score_BLOOM</th>\n",
       "      <th>senti_score_FOX</th>\n",
       "    </tr>\n",
       "  </thead>\n",
       "  <tbody>\n",
       "    <tr>\n",
       "      <td>0</td>\n",
       "      <td>rt sallybundockbbc: #zuckerberg tri convinc us...</td>\n",
       "      <td>tran fat still hidden mani food increas risk a...</td>\n",
       "      <td>think london, might think tesco, largest retai...</td>\n",
       "      <td>forget ipo. hippest strategi back tech compani...</td>\n",
       "      <td>breaking: feder appeal court rule trump admini...</td>\n",
       "      <td>0.0</td>\n",
       "      <td>-0.166667</td>\n",
       "      <td>0.00</td>\n",
       "      <td>0.00</td>\n",
       "      <td>0.0</td>\n",
       "    </tr>\n",
       "    <tr>\n",
       "      <td>1</td>\n",
       "      <td>argentina election: voter dream break cycl cri...</td>\n",
       "      <td>\"for record, far could tell, alien never conta...</td>\n",
       "      <td>global recess top concern among asia pacif bus...</td>\n",
       "      <td>-asia brace treasury’ report currenc manipul -...</td>\n",
       "      <td>break news: grand juri indict captain missouri...</td>\n",
       "      <td>0.0</td>\n",
       "      <td>-0.150000</td>\n",
       "      <td>0.25</td>\n",
       "      <td>0.25</td>\n",
       "      <td>0.5</td>\n",
       "    </tr>\n",
       "  </tbody>\n",
       "</table>\n",
       "</div>"
      ],
      "text/plain": [
       "                                                 BBC  \\\n",
       "0  rt sallybundockbbc: #zuckerberg tri convinc us...   \n",
       "1  argentina election: voter dream break cycl cri...   \n",
       "\n",
       "                                                 CNN  \\\n",
       "0  tran fat still hidden mani food increas risk a...   \n",
       "1  \"for record, far could tell, alien never conta...   \n",
       "\n",
       "                                                CNBC  \\\n",
       "0  think london, might think tesco, largest retai...   \n",
       "1  global recess top concern among asia pacif bus...   \n",
       "\n",
       "                                               BLOOM  \\\n",
       "0  forget ipo. hippest strategi back tech compani...   \n",
       "1  -asia brace treasury’ report currenc manipul -...   \n",
       "\n",
       "                                                 FOX  senti_score_BBC  \\\n",
       "0  breaking: feder appeal court rule trump admini...              0.0   \n",
       "1  break news: grand juri indict captain missouri...              0.0   \n",
       "\n",
       "   senti_score_CNN  senti_score_CNBC  senti_score_BLOOM  senti_score_FOX  \n",
       "0        -0.166667              0.00               0.00              0.0  \n",
       "1        -0.150000              0.25               0.25              0.5  "
      ]
     },
     "execution_count": 15,
     "metadata": {},
     "output_type": "execute_result"
    }
   ],
   "source": [
    "#main_data['senti_score_BBC'] = main_data['BBC'].apply(analyze_sentiment)\n",
    "#main_data['senti_score_CNN'] = main_data['CNN'].apply(analyze_sentiment)\n",
    "#main_data['senti_score_CNBC'] = main_data['CNBC'].apply(analyze_sentiment)\n",
    "#main_data['senti_score_BLOOM'] = main_data['BLOOM'].apply(analyze_sentiment)\n",
    "#main_data['senti_score_FOX'] = main_data['FOX'].apply(analyze_sentiment)\n",
    "main_data['senti_score_BBC'] = main_data['BBC'].apply(senti)\n",
    "main_data['senti_score_CNN'] = main_data['CNN'].apply(senti)\n",
    "main_data['senti_score_CNBC'] = main_data['CNBC'].apply(senti)\n",
    "main_data['senti_score_BLOOM'] = main_data['BLOOM'].apply(senti)\n",
    "main_data['senti_score_FOX'] = main_data['FOX'].apply(senti)\n",
    "main_data.head(2)"
   ]
  },
  {
   "cell_type": "code",
   "execution_count": 16,
   "metadata": {},
   "outputs": [],
   "source": [
    "#list(main_data)"
   ]
  },
  {
   "cell_type": "code",
   "execution_count": 17,
   "metadata": {},
   "outputs": [],
   "source": [
    "main_data=main_data[['BBC','senti_score_BBC','CNN','senti_score_CNN','CNBC','senti_score_CNBC','BLOOM','senti_score_BLOOM','FOX','senti_score_FOX']]"
   ]
  },
  {
   "cell_type": "code",
   "execution_count": 18,
   "metadata": {},
   "outputs": [
    {
     "data": {
      "text/html": [
       "<div>\n",
       "<style scoped>\n",
       "    .dataframe tbody tr th:only-of-type {\n",
       "        vertical-align: middle;\n",
       "    }\n",
       "\n",
       "    .dataframe tbody tr th {\n",
       "        vertical-align: top;\n",
       "    }\n",
       "\n",
       "    .dataframe thead th {\n",
       "        text-align: right;\n",
       "    }\n",
       "</style>\n",
       "<table border=\"1\" class=\"dataframe\">\n",
       "  <thead>\n",
       "    <tr style=\"text-align: right;\">\n",
       "      <th></th>\n",
       "      <th>BBC</th>\n",
       "      <th>senti_score_BBC</th>\n",
       "      <th>CNN</th>\n",
       "      <th>senti_score_CNN</th>\n",
       "      <th>CNBC</th>\n",
       "      <th>senti_score_CNBC</th>\n",
       "      <th>BLOOM</th>\n",
       "      <th>senti_score_BLOOM</th>\n",
       "      <th>FOX</th>\n",
       "      <th>senti_score_FOX</th>\n",
       "    </tr>\n",
       "  </thead>\n",
       "  <tbody>\n",
       "    <tr>\n",
       "      <td>0</td>\n",
       "      <td>rt sallybundockbbc: #zuckerberg tri convinc us...</td>\n",
       "      <td>0.0</td>\n",
       "      <td>tran fat still hidden mani food increas risk a...</td>\n",
       "      <td>-0.166667</td>\n",
       "      <td>think london, might think tesco, largest retai...</td>\n",
       "      <td>0.00</td>\n",
       "      <td>forget ipo. hippest strategi back tech compani...</td>\n",
       "      <td>0.00</td>\n",
       "      <td>breaking: feder appeal court rule trump admini...</td>\n",
       "      <td>0.0</td>\n",
       "    </tr>\n",
       "    <tr>\n",
       "      <td>1</td>\n",
       "      <td>argentina election: voter dream break cycl cri...</td>\n",
       "      <td>0.0</td>\n",
       "      <td>\"for record, far could tell, alien never conta...</td>\n",
       "      <td>-0.150000</td>\n",
       "      <td>global recess top concern among asia pacif bus...</td>\n",
       "      <td>0.25</td>\n",
       "      <td>-asia brace treasury’ report currenc manipul -...</td>\n",
       "      <td>0.25</td>\n",
       "      <td>break news: grand juri indict captain missouri...</td>\n",
       "      <td>0.5</td>\n",
       "    </tr>\n",
       "  </tbody>\n",
       "</table>\n",
       "</div>"
      ],
      "text/plain": [
       "                                                 BBC  senti_score_BBC  \\\n",
       "0  rt sallybundockbbc: #zuckerberg tri convinc us...              0.0   \n",
       "1  argentina election: voter dream break cycl cri...              0.0   \n",
       "\n",
       "                                                 CNN  senti_score_CNN  \\\n",
       "0  tran fat still hidden mani food increas risk a...        -0.166667   \n",
       "1  \"for record, far could tell, alien never conta...        -0.150000   \n",
       "\n",
       "                                                CNBC  senti_score_CNBC  \\\n",
       "0  think london, might think tesco, largest retai...              0.00   \n",
       "1  global recess top concern among asia pacif bus...              0.25   \n",
       "\n",
       "                                               BLOOM  senti_score_BLOOM  \\\n",
       "0  forget ipo. hippest strategi back tech compani...               0.00   \n",
       "1  -asia brace treasury’ report currenc manipul -...               0.25   \n",
       "\n",
       "                                                 FOX  senti_score_FOX  \n",
       "0  breaking: feder appeal court rule trump admini...              0.0  \n",
       "1  break news: grand juri indict captain missouri...              0.5  "
      ]
     },
     "execution_count": 18,
     "metadata": {},
     "output_type": "execute_result"
    }
   ],
   "source": [
    "main_data.head(2)"
   ]
  },
  {
   "cell_type": "code",
   "execution_count": 19,
   "metadata": {},
   "outputs": [
    {
     "name": "stdout",
     "output_type": "stream",
     "text": [
      "Int64Index([52, 98, 173, 175], dtype='int64')\n"
     ]
    }
   ],
   "source": [
    "#main_data.loc[main_data['senti_score_BBC'].idxmax()]\n",
    "#print(main_data[['BBC']][main_data.senti_score_BBC == main_data.senti_score_BBC.max()])\n",
    "hold = (main_data[['BBC']][main_data.senti_score_BBC == main_data.senti_score_BBC.max()])\n",
    "hold1 = (main_data[['CNN']][main_data.senti_score_CNN == main_data.senti_score_CNN.max()])\n",
    "hold2 = (main_data[['CNBC']][main_data.senti_score_CNBC == main_data.senti_score_CNBC.max()])\n",
    "hold3 = (main_data[['BLOOM']][main_data.senti_score_BLOOM == main_data.senti_score_BLOOM.max()])\n",
    "hold4 = (main_data[['FOX']][main_data.senti_score_FOX == main_data.senti_score_FOX.max()])\n",
    "BBC_index = hold.index\n",
    "CNN_index = hold1.index\n",
    "CNBC_index = hold2.index\n",
    "BLOOM_index = hold3.index\n",
    "FOX_index = hold4.index\n",
    "print(BBC_index)"
   ]
  },
  {
   "cell_type": "code",
   "execution_count": 20,
   "metadata": {},
   "outputs": [
    {
     "data": {
      "text/html": [
       "<div>\n",
       "<style scoped>\n",
       "    .dataframe tbody tr th:only-of-type {\n",
       "        vertical-align: middle;\n",
       "    }\n",
       "\n",
       "    .dataframe tbody tr th {\n",
       "        vertical-align: top;\n",
       "    }\n",
       "\n",
       "    .dataframe thead th {\n",
       "        text-align: right;\n",
       "    }\n",
       "</style>\n",
       "<table border=\"1\" class=\"dataframe\">\n",
       "  <thead>\n",
       "    <tr style=\"text-align: right;\">\n",
       "      <th></th>\n",
       "      <th>BBC</th>\n",
       "      <th>CNN</th>\n",
       "      <th>CNBC</th>\n",
       "      <th>BLOOM</th>\n",
       "      <th>FOX</th>\n",
       "      <th>senti_score_BBC</th>\n",
       "      <th>senti_score_CNN</th>\n",
       "      <th>senti_score_CNBC</th>\n",
       "      <th>senti_score_BLOOM</th>\n",
       "      <th>senti_score_FOX</th>\n",
       "    </tr>\n",
       "  </thead>\n",
       "  <tbody>\n",
       "    <tr>\n",
       "      <td>0</td>\n",
       "      <td>rt sallybundockbbc: #zuckerberg tri convinc us...</td>\n",
       "      <td>tran fat still hidden mani food increas risk a...</td>\n",
       "      <td>think london, might think tesco, largest retai...</td>\n",
       "      <td>forget ipo. hippest strategi back tech compani...</td>\n",
       "      <td>breaking: feder appeal court rule trump admini...</td>\n",
       "      <td>0.00</td>\n",
       "      <td>-0.166667</td>\n",
       "      <td>0.00</td>\n",
       "      <td>0.00</td>\n",
       "      <td>0.0</td>\n",
       "    </tr>\n",
       "    <tr>\n",
       "      <td>1</td>\n",
       "      <td>argentina election: voter dream break cycl cri...</td>\n",
       "      <td>\"for record, far could tell, alien never conta...</td>\n",
       "      <td>global recess top concern among asia pacif bus...</td>\n",
       "      <td>-asia brace treasury’ report currenc manipul -...</td>\n",
       "      <td>break news: grand juri indict captain missouri...</td>\n",
       "      <td>0.00</td>\n",
       "      <td>-0.150000</td>\n",
       "      <td>0.25</td>\n",
       "      <td>0.25</td>\n",
       "      <td>0.5</td>\n",
       "    </tr>\n",
       "    <tr>\n",
       "      <td>2</td>\n",
       "      <td>indian 'tiger poacher ate sloth bear penises' ...</td>\n",
       "      <td>us soccer superstar striker alex morgan husban...</td>\n",
       "      <td>“i’m favor divorc china, think recalibr rebal ...</td>\n",
       "      <td>man allegedli behind 1mdb heist part london li...</td>\n",
       "      <td>in: polic identifi gunman open fire insid cali...</td>\n",
       "      <td>-0.05</td>\n",
       "      <td>0.000000</td>\n",
       "      <td>0.00</td>\n",
       "      <td>-0.40</td>\n",
       "      <td>0.0</td>\n",
       "    </tr>\n",
       "  </tbody>\n",
       "</table>\n",
       "</div>"
      ],
      "text/plain": [
       "                                                 BBC  \\\n",
       "0  rt sallybundockbbc: #zuckerberg tri convinc us...   \n",
       "1  argentina election: voter dream break cycl cri...   \n",
       "2  indian 'tiger poacher ate sloth bear penises' ...   \n",
       "\n",
       "                                                 CNN  \\\n",
       "0  tran fat still hidden mani food increas risk a...   \n",
       "1  \"for record, far could tell, alien never conta...   \n",
       "2  us soccer superstar striker alex morgan husban...   \n",
       "\n",
       "                                                CNBC  \\\n",
       "0  think london, might think tesco, largest retai...   \n",
       "1  global recess top concern among asia pacif bus...   \n",
       "2  “i’m favor divorc china, think recalibr rebal ...   \n",
       "\n",
       "                                               BLOOM  \\\n",
       "0  forget ipo. hippest strategi back tech compani...   \n",
       "1  -asia brace treasury’ report currenc manipul -...   \n",
       "2  man allegedli behind 1mdb heist part london li...   \n",
       "\n",
       "                                                 FOX  senti_score_BBC  \\\n",
       "0  breaking: feder appeal court rule trump admini...             0.00   \n",
       "1  break news: grand juri indict captain missouri...             0.00   \n",
       "2  in: polic identifi gunman open fire insid cali...            -0.05   \n",
       "\n",
       "   senti_score_CNN  senti_score_CNBC  senti_score_BLOOM  senti_score_FOX  \n",
       "0        -0.166667              0.00               0.00              0.0  \n",
       "1        -0.150000              0.25               0.25              0.5  \n",
       "2         0.000000              0.00              -0.40              0.0  "
      ]
     },
     "execution_count": 20,
     "metadata": {},
     "output_type": "execute_result"
    }
   ],
   "source": [
    "main_data_untouched.head(3)"
   ]
  },
  {
   "cell_type": "code",
   "execution_count": 21,
   "metadata": {
    "scrolled": true
   },
   "outputs": [
    {
     "name": "stdout",
     "output_type": "stream",
     "text": [
      "52     hous rules: 'bullied' realiti tv star win payo...\n",
      "98     botswana' elect could decid eleph diamond http...\n",
      "173    renamo call mozambiqu elect cancel https://t.c...\n",
      "175    north macedonia call snap elect eu talk setbac...\n",
      "Name: BBC, dtype: object\n"
     ]
    }
   ],
   "source": [
    "Recommend_BBC = main_data_untouched.loc[BBC_index,'BBC']\n",
    "print(Recommend_BBC)"
   ]
  },
  {
   "cell_type": "code",
   "execution_count": 22,
   "metadata": {},
   "outputs": [
    {
     "name": "stdout",
     "output_type": "stream",
     "text": [
      "108    \"one best valu america free speech... we'r all...\n",
      "Name: CNN, dtype: object\n"
     ]
    }
   ],
   "source": [
    "Recommend_CNN = main_data_untouched.loc[CNN_index,'CNN']\n",
    "print(Recommend_CNN)"
   ]
  },
  {
   "cell_type": "code",
   "execution_count": 23,
   "metadata": {},
   "outputs": [
    {
     "name": "stdout",
     "output_type": "stream",
     "text": [
      "3      10 best univers world, accord u.s. news &amp; ...\n",
      "191    ub upgrad coca-cola, say stabl earn growth per...\n",
      "Name: CNBC, dtype: object\n"
     ]
    }
   ],
   "source": [
    "Recommend_CNBC = main_data_untouched.loc[CNBC_index,'CNBC']\n",
    "print(Recommend_CNBC)"
   ]
  },
  {
   "cell_type": "code",
   "execution_count": 24,
   "metadata": {},
   "outputs": [
    {
     "name": "stdout",
     "output_type": "stream",
     "text": [
      "111    rt grow_mag: buy item bulk might save money. h...\n",
      "124    mark zuckerberg respond question regard leader...\n",
      "194    5 thing know stock market open wednesday https...\n",
      "Name: CNBC, dtype: object\n"
     ]
    }
   ],
   "source": [
    "Recommend_BLOOM = main_data_untouched.loc[BLOOM_index,'CNBC']\n",
    "print(Recommend_BLOOM)"
   ]
  },
  {
   "cell_type": "code",
   "execution_count": 25,
   "metadata": {},
   "outputs": [
    {
     "name": "stdout",
     "output_type": "stream",
     "text": [
      "43    aoc grill zuckerberg facebook allow lie polit ...\n",
      "88    good idea take person loan settl credit card d...\n",
      "Name: CNBC, dtype: object\n"
     ]
    }
   ],
   "source": [
    "Recommend_FOX = main_data_untouched.loc[FOX_index,'CNBC']\n",
    "print(Recommend_FOX)"
   ]
  },
  {
   "cell_type": "code",
   "execution_count": null,
   "metadata": {},
   "outputs": [],
   "source": []
  }
 ],
 "metadata": {
  "kernelspec": {
   "display_name": "Python 3",
   "language": "python",
   "name": "python3"
  },
  "language_info": {
   "codemirror_mode": {
    "name": "ipython",
    "version": 3
   },
   "file_extension": ".py",
   "mimetype": "text/x-python",
   "name": "python",
   "nbconvert_exporter": "python",
   "pygments_lexer": "ipython3",
   "version": "3.6.9"
  }
 },
 "nbformat": 4,
 "nbformat_minor": 2
}
